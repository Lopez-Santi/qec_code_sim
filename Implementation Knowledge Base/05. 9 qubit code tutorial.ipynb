{
 "cells": [
  {
   "cell_type": "markdown",
   "metadata": {},
   "source": [
    "# The 9-Qubit Code"
   ]
  },
  {
   "cell_type": "code",
   "execution_count": null,
   "metadata": {},
   "outputs": [],
   "source": [
    "import sys\n",
    "sys.path.append('..')   # the `general_qec` package sits above us\n",
    "\n",
    "import numpy as np\n",
    "\n",
    "# Importing required libraries\n",
    "from general_qec.qec_helpers import *\n",
    "from general_qec.gates import *\n",
    "from general_qec.errors import *\n",
    "from circuit_specific.nine_qubit_helpers import *\n",
    "\n",
    "from qiskit import QuantumRegister, ClassicalRegister, QuantumCircuit, Aer, execute\n",
    "from qiskit.visualization import plot_histogram\n",
    "from qiskit import user_config\n",
    "from qiskit.quantum_info import partial_trace\n",
    "from qiskit.extensions import UnitaryGate\n",
    "\n",
    "# Visualization of circuits: Initializing backend simulators\n",
    "qasm_sim = Aer.get_backend('qasm_simulator')\n",
    "sv_sim = Aer.get_backend('statevector_simulator')\n",
    "\n",
    "# Setting mpl as default drawer\n",
    "%env QISKIT_SETTINGS {}\n",
    "user_config.set_config('circuit_drawer', 'mpl')"
   ]
  },
  {
   "cell_type": "markdown",
   "metadata": {},
   "source": [
    "It is important to note that when we measure the logical states of our qubit systems we will only actually \"see\" one of the states that make up our superposition terms of our qubit system state. This will happen in many notebooks but it is important to keep in mind that it is only for example's sake.\n",
    "\n",
    "For example, if our state is $\\vert\\psi\\rangle = \\alpha\\vert000\\rangle + \\beta\\vert111\\rangle$ we will either measure $\\vert000\\rangle$ or $\\vert111\\rangle$, never both! \n",
    "\n",
    "Another useful example that well come across is when we use ancilla qubits and measure them, collapsing our state. Lets say our state is $\\vert\\psi\\rangle = \\alpha_1\\vert00001\\rangle + \\alpha_1\\vert00010\\rangle + \\beta_2\\vert11101\\rangle + \\beta_2\\vert11110\\rangle$. And lets say we measure our two ancilla qubits at the end (right side of our bit representation). The the states we would get are $\\vert\\psi\\rangle = \\gamma_1\\vert00001\\rangle + \\lambda_1\\vert11101\\rangle$ or $\\vert\\psi\\rangle = \\gamma_2\\vert00010\\rangle + \\lambda_2\\vert11110\\rangle$, but again never both!\n",
    "\n",
    "**In our notebooks, we just display this information to show the current quantum state, although physically this would never be possible.**"
   ]
  },
  {
   "cell_type": "markdown",
   "metadata": {},
   "source": [
    "## Contents\n",
    "1. [Introduction](#introduction)\n",
    "2. [Initializing the 9-qubit code](#initialization)\n",
    "3. [Phase Error Detection and Correction](#phase)\n",
    "4. [Bit Flip Error Detection and Correction](#bit)\n",
    "5. [The Full 9-qubit code sequence](#full)"
   ]
  },
  {
   "cell_type": "markdown",
   "metadata": {},
   "source": [
    "## 1. Introduction <a id='introduction'></a>"
   ]
  },
  {
   "cell_type": "markdown",
   "metadata": {},
   "source": [
    "The 9-qubit code is very similar to the 3 qubit code since it is also a repitition code and it even uses 3 sets of the 3-qubit code in its construction. However, with the use of 9 qubits (11 total), the strength of the code increases. The 9-qubit code is able to correct for up to 3 bit flip errors and 1 phase error. Due to the high similarities, only the differences will be discussed in this section. For more information visit 02. 3 qubit Code Tutorial.\n",
    "\n",
    "The key difference is the use of 9 qubits rather than just 3. This allows for the code to detect phase errors with the addition of Hadamard and CNOT gates applied to the 11 qubit system (which includes the ancilla). With this, there are an increased number of gates applied, and as seen when realistic error models are applied, this can lead to faster code failure in terms of iterations. \n",
    "\n",
    "In this tutorial, only the \"ideal\" number of errors are applied. Due to high computational times, the realistic error model is only implemented in a python file rather than a full tutorial. If you would like to see how the realistic error model is implemented on the 3 qubit code and the Steane code, please see 02c. 3 qubit logical T1 calculation and 03b. Steane code logical T1 calculation. The idea is the same for the 9 qubit code."
   ]
  },
  {
   "cell_type": "markdown",
   "metadata": {},
   "source": [
    "## 2. Initializing the 9-qubit code <a id='initialization'></a>"
   ]
  },
  {
   "cell_type": "markdown",
   "metadata": {},
   "source": [
    "The 2 logical states used for this code are labeled $\\vert0\\rangle _L$ and $\\vert1\\rangle _L$ which can be defined as\n",
    "$$ \\vert0\\rangle _L = \\frac{1}{\\sqrt{8}}(\\vert000\\rangle + \\vert111\\rangle)(\\vert000\\rangle + \\vert111\\rangle)(\\vert000\\rangle + \\vert111\\rangle) $$\n",
    "$$ \\vert1\\rangle _L = \\frac{1}{\\sqrt{8}}(\\vert000\\rangle - \\vert111\\rangle)(\\vert000\\rangle - \\vert111\\rangle)(\\vert000\\rangle - \\vert111\\rangle) $$\n",
    "\n",
    "The initialization process for the logical state of the 9 qubit code is the following."
   ]
  },
  {
   "cell_type": "code",
   "execution_count": null,
   "metadata": {},
   "outputs": [],
   "source": [
    "psi = QuantumRegister(1, '|ψ⟩')\n",
    "ancilla = QuantumRegister(8, '|0⟩')\n",
    "\n",
    "qc = QuantumCircuit(psi, ancilla)\n",
    "qc.cx(0, 3)\n",
    "qc.cx(0, 6)\n",
    "qc.h(0)\n",
    "qc.h(3)\n",
    "qc.h(6)\n",
    "qc.cx(0, 1)\n",
    "qc.cx(3, 4)\n",
    "qc.cx(6, 7)\n",
    "qc.cx(0, 2)\n",
    "qc.cx(3, 5)\n",
    "qc.cx(6, 8)\n",
    "qc.barrier()\n",
    "\n",
    "qc.draw()"
   ]
  },
  {
   "cell_type": "markdown",
   "metadata": {},
   "source": [
    "Example usage"
   ]
  },
  {
   "cell_type": "code",
   "execution_count": null,
   "metadata": {},
   "outputs": [],
   "source": [
    "initial_psi = zero # |0>\n",
    "# initial_psi = one # |1>\n",
    "state = nine_qubit_initialize_logical_state(initial_psi)\n",
    "\n",
    "print('Initialized 9 qubit logical state:')\n",
    "print_state_info(state, 11)"
   ]
  },
  {
   "cell_type": "markdown",
   "metadata": {},
   "source": [
    "### 3. Phase Error Detection and Correction <a id='phase'></a>"
   ]
  },
  {
   "cell_type": "markdown",
   "metadata": {},
   "source": [
    "In order to detect phase errors in this circuit each block of 3 qubits is compared to the others. Since the logical states of the qubit (which are in the codespace) are in a certain configuration, this allows a comparison of phase such that if there is a single qubit in one of the blocks with an incorrect phase, the ancilla qubits will be triggered. This is done by putting the qubits in the $\\vert+\\rangle$ and $\\vert-\\rangle$ basis using Hadamard gates, such that when a CNOT gate is applied, the phase of the qubits will be \"compared\" using the ancillas. The circuit used to do this can be seen below, with the code implementation following."
   ]
  },
  {
   "cell_type": "code",
   "execution_count": null,
   "metadata": {},
   "outputs": [],
   "source": [
    "psi = QuantumRegister(1, '|ψ⟩')\n",
    "ancilla = QuantumRegister(8, '|0⟩')\n",
    "additional_ancilla = QuantumRegister(10, '|0⟩')\n",
    "qc = QuantumCircuit(11)\n",
    "\n",
    "# Hadamard gates on the left side (vertical arrangement)\n",
    "for i in range(9):\n",
    "    qc.h(i)\n",
    "\n",
    "# Define the Z error correction circuit for Shor's code\n",
    "qc.cx(0, 9)\n",
    "qc.cx(1, 9)\n",
    "qc.cx(2, 9)\n",
    "qc.cx(3, 9)\n",
    "qc.cx(4, 9)\n",
    "qc.cx(5, 9)\n",
    "qc.barrier()\n",
    "qc.cx(3, 10)\n",
    "qc.cx(4, 10)\n",
    "qc.cx(5, 10)\n",
    "qc.cx(6, 10)\n",
    "qc.cx(7, 10)\n",
    "qc.cx(8, 10)\n",
    "\n",
    "# Add barrier gate after the error correction circuit\n",
    "qc.barrier()\n",
    "\n",
    "# Hadamard gates on the right side (vertical arrangement)\n",
    "for i in range(9):\n",
    "    qc.h(i)\n",
    "qc.draw()"
   ]
  },
  {
   "cell_type": "markdown",
   "metadata": {},
   "source": [
    "Example usage"
   ]
  },
  {
   "cell_type": "code",
   "execution_count": null,
   "metadata": {},
   "outputs": [],
   "source": [
    "final_state = nine_qubit_phase_correction(state)\n",
    "\n",
    "print('\\n 9 qubit state with no errors:')\n",
    "print_state_info(final_state, 11)"
   ]
  },
  {
   "cell_type": "markdown",
   "metadata": {},
   "source": [
    "Applying a Z error to a random qubit in the system"
   ]
  },
  {
   "cell_type": "code",
   "execution_count": null,
   "metadata": {},
   "outputs": [],
   "source": [
    "errored_state = random_qubit_z_error(state, qubit_range = [0,8])[0]\n",
    "\n",
    "print('Errored 9 qubit state:')\n",
    "print_state_info(errored_state, 11)"
   ]
  },
  {
   "cell_type": "markdown",
   "metadata": {},
   "source": [
    "Correcting the Z error"
   ]
  },
  {
   "cell_type": "code",
   "execution_count": null,
   "metadata": {},
   "outputs": [],
   "source": [
    "phase_corrected_state = nine_qubit_phase_correction(errored_state)\n",
    "\n",
    "print('\\nCorrected 9 qubit state:')\n",
    "print_state_info(phase_corrected_state, 11)"
   ]
  },
  {
   "cell_type": "markdown",
   "metadata": {},
   "source": [
    "###  4. Bit Flip Error Detection and Correction <a id='bit'></a>"
   ]
  },
  {
   "cell_type": "markdown",
   "metadata": {},
   "source": [
    "As stated above, the bit flip error correction works exactly the same as the 3-qubit code. In this case each block is corrected individually using the 2 ancilla qubits, and after each block's correction the ancilla qubits are reset to ensure they are prepared for the next detection and correction. The circuit for this is shown below with the implementation after."
   ]
  },
  {
   "cell_type": "code",
   "execution_count": null,
   "metadata": {},
   "outputs": [],
   "source": [
    "# Define the X error correction circuit for Shor's code\n",
    "\n",
    "psi = QuantumRegister(1, '|ψ⟩')\n",
    "ancilla = QuantumRegister(8, '|0⟩')\n",
    "additional_ancilla = QuantumRegister(10, '|0⟩')\n",
    "qc = QuantumCircuit(11)\n",
    "\n",
    "\n",
    "# The first block of three qubits \n",
    "qc.cx(0, 9)\n",
    "qc.cx(1, 9)\n",
    "qc.cx(0, 10)\n",
    "qc.cx(2, 10)\n",
    "qc.barrier()\n",
    "\n",
    "# The second block of three qubits\n",
    "qc.cx(3, 9)\n",
    "qc.cx(4, 9)\n",
    "qc.cx(3, 10)\n",
    "qc.cx(5, 10)\n",
    "qc.barrier()\n",
    "\n",
    "# The third block of three qubits\n",
    "\n",
    "qc.cx(6, 9)\n",
    "qc.cx(7, 9)\n",
    "qc.cx(6, 10)\n",
    "qc.cx(8, 10)\n",
    "qc.barrier()\n",
    "\n",
    "\n",
    "qc.draw()"
   ]
  },
  {
   "cell_type": "markdown",
   "metadata": {},
   "source": [
    "Implementing one random bit flip error on each block"
   ]
  },
  {
   "cell_type": "code",
   "execution_count": null,
   "metadata": {},
   "outputs": [],
   "source": [
    "print_state_info(phase_corrected_state, 11)\n",
    "\n",
    "print('\\nThis cell is specific to block 1 ')\n",
    "errored_state = random_qubit_x_error(errored_state, [0,2])[0]   # The [0,2] show qubits 1,2, and 3\n",
    "print_state_info(errored_state, 11)\n",
    "\n",
    "print('\\nThis cell is specific to block 2 ')\n",
    "errored_state = random_qubit_x_error(errored_state, [3,5])[0]   # The [3,5] show qubits 4,5, and 6\n",
    "print_state_info(errored_state, 11)\n",
    "print('\\nThis cell is specific to block 3 ')\n",
    "\n",
    "errored_state = random_qubit_x_error(errored_state, [6,8])[0]   # The [6,8] show qubits 7,8, and 9\n",
    "print_state_info(errored_state, 11)"
   ]
  },
  {
   "cell_type": "markdown",
   "metadata": {},
   "source": [
    "Example Usage of detecting the errors for each block"
   ]
  },
  {
   "cell_type": "code",
   "execution_count": null,
   "metadata": {},
   "outputs": [],
   "source": [
    "# This cell is specific to block 1 \n",
    "corrected_first_block_state = first_block(errored_state)\n",
    "print_state_info(corrected_first_block_state, 11)\n",
    "print('\\n')\n",
    "# This cell is specific to block 2\n",
    "corrected_second_block_state = second_block(errored_state)\n",
    "print_state_info(corrected_second_block_state, 11)\n",
    "print('\\n')\n",
    "# This cell is specific to block 3\n",
    "corrected_third_block_state = third_block(errored_state)\n",
    "print_state_info(corrected_third_block_state, 11)"
   ]
  },
  {
   "cell_type": "markdown",
   "metadata": {},
   "source": [
    "### 5. The Full 9-qubit code sequence <a id='full'></a>"
   ]
  },
  {
   "cell_type": "markdown",
   "metadata": {},
   "source": [
    "The last step is to combine the initialization and detection (phase and bit) of the nine qubit code and implement them sequencially. This is done below:"
   ]
  },
  {
   "cell_type": "code",
   "execution_count": null,
   "metadata": {},
   "outputs": [],
   "source": [
    "initial_state = nine_qubit_initialize_logical_state(np.array([1, 0]))\n",
    "print('\\ninitial_state: ')\n",
    "print_state_info(initial_state, 11)\n",
    "\n",
    "errored_state = random_qubit_z_error(initial_state, [0, 8])[0]\n",
    "errored_state = random_qubit_x_error(errored_state, [0, 8])[0]\n",
    "print('\\nerrored_state: ')\n",
    "print_state_info(errored_state, 11)\n",
    "\n",
    "print('\\ndetecting errors...')\n",
    "corrected_state = full_nine_qubit_code(errored_state)\n",
    "\n",
    "print('\\ncorrected_state:')\n",
    "print_state_info(corrected_state, 11)"
   ]
  },
  {
   "cell_type": "code",
   "execution_count": null,
   "metadata": {},
   "outputs": [],
   "source": []
  }
 ],
 "metadata": {
  "kernelspec": {
   "display_name": "Python 3",
   "language": "python",
   "name": "python3"
  },
  "language_info": {
   "codemirror_mode": {
    "name": "ipython",
    "version": 3
   },
   "file_extension": ".py",
   "mimetype": "text/x-python",
   "name": "python",
   "nbconvert_exporter": "python",
   "pygments_lexer": "ipython3",
   "version": "3.11.4"
  }
 },
 "nbformat": 4,
 "nbformat_minor": 2
}
