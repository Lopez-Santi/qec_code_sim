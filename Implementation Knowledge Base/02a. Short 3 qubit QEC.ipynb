{
 "cells": [
  {
   "cell_type": "markdown",
   "id": "29293361",
   "metadata": {},
   "source": [
    "If there is a file import error make sure you are in the correct path"
   ]
  },
  {
   "cell_type": "code",
   "execution_count": null,
   "id": "fe000064",
   "metadata": {},
   "outputs": [],
   "source": [
    "import sys\n",
    "sys.path.append('..')   # the `general_qec` package sits above us"
   ]
  },
  {
   "cell_type": "code",
   "execution_count": null,
   "id": "3faf760c",
   "metadata": {},
   "outputs": [],
   "source": [
    "import numpy as np\n",
    "from general_qec.qec_helpers import *\n",
    "from circuit_specific.drawing_helpers import *\n",
    "from circuit_specific.three_qubit_helpers import *"
   ]
  },
  {
   "cell_type": "code",
   "execution_count": null,
   "id": "37d58185",
   "metadata": {},
   "outputs": [],
   "source": [
    "qc = draw_three_qubit_code()\n",
    "qc.draw()"
   ]
  },
  {
   "cell_type": "code",
   "execution_count": null,
   "id": "ba64323d",
   "metadata": {},
   "outputs": [],
   "source": [
    "psi = 1/np.sqrt(2) * np.array([1, 1])\n",
    "# psi = np.array([0.6, 0.8])\n",
    "\n",
    "# Initialize logical state\n",
    "state = three_qubit_initialize_logical_state(psi)\n",
    "\n",
    "# Apply a random X error to one of the qubits\n",
    "error_state = three_qubit_random_qubit_x_error(state)[0]\n",
    "\n",
    "# Apply the ancilla qubits to the system\n",
    "full_error_state = three_qubit_apply_ancillas(error_state)\n",
    "\n",
    "# Dectecting where the error occured\n",
    "# error_index = three_qubit_detect_error_location_from_vector(full_error_state)\n",
    "\n",
    "# Correcting for the error\n",
    "corrected_state = three_qubit_correct_x_error(full_error_state)\n",
    "\n",
    "# Output the proper information for the error corrections\n",
    "three_qubit_info(full_error_state, corrected_state)"
   ]
  }
 ],
 "metadata": {
  "kernelspec": {
   "display_name": "Python 3 (ipykernel)",
   "language": "python",
   "name": "python3"
  },
  "language_info": {
   "codemirror_mode": {
    "name": "ipython",
    "version": 3
   },
   "file_extension": ".py",
   "mimetype": "text/x-python",
   "name": "python",
   "nbconvert_exporter": "python",
   "pygments_lexer": "ipython3",
   "version": "3.10.12"
  }
 },
 "nbformat": 4,
 "nbformat_minor": 5
}
