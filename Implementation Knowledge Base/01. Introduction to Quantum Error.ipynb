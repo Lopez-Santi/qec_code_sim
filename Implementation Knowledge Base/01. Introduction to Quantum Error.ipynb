{
 "cells": [
  {
   "cell_type": "markdown",
   "id": "96b1f2d1",
   "metadata": {},
   "source": [
    "# Introduction to Quantum Error"
   ]
  },
  {
   "cell_type": "code",
   "execution_count": null,
   "id": "cd4279a9",
   "metadata": {},
   "outputs": [],
   "source": [
    "import numpy as np"
   ]
  },
  {
   "cell_type": "markdown",
   "id": "6cef5554",
   "metadata": {},
   "source": [
    "## Contents\n",
    "1. [Introduction](#introduction)\n",
    "2. [Describing Quantum states and gates](#basics)\n",
    "3. [Quantum Errors: Cause and Effect](#errors)\n",
    "    1. [Coherent Quantum Errors: Gates which are incorrectly applied](#coherent)\n",
    "    2. [Environmental Decoherence](#decoherence)\n",
    "        1. [Density Matrix representation](#density)\n",
    "        2. [Partial Trace Example](#partial)\n",
    "    4. [Simple models of loss, leakage, measurement and initialization](#models)\n",
    "        1. [Determine Measurement projectors](#projectors)\n",
    "        2. [Determine Probabilities of Collapsed State](#probabilities)\n",
    "        3. [Extra Information](#extra)"
   ]
  },
  {
   "cell_type": "markdown",
   "id": "2dab2683",
   "metadata": {},
   "source": [
    "## 1. Introduction  <a id='introduction'></a>\n",
    "\n",
    "In this file we will go through the [Devitt el al. paper (arXiv: 0905.2794v4)](https://arxiv.org/abs/0905.2794v4) Sections ll and lll and derive and explain all of the math and theory to fully understand basic quantum errors."
   ]
  },
  {
   "cell_type": "markdown",
   "id": "ea648b47",
   "metadata": {},
   "source": [
    "## 2. Describing Quantum states and gates <a id='basics'></a>\n",
    "\n",
    "This section describes:\n",
    "    (a) The basic structure of a qubit\n",
    "    (b) Some general requirements of QEC\n",
    "\n",
    "Suggest reading this section of the paper to understand the fundamentals of qubits and why we need QEC\n",
    "\n",
    "We can describe the state of a qubit by $\\vert\\psi\\rangle = \\alpha\\vert0\\rangle + \\beta\\vert1\\rangle$ where $\\vert0\\rangle$ and $\\vert1\\rangle$ are 2 orthonormal basis states known as the computational basis, and we know that  $\\vert\\alpha\\vert^2 + \\vert\\beta\\vert^2 = 1$ holds. \n",
    "\n",
    "The probabilty of being in the $\\vert0\\rangle$ state is $P(\\vert0\\rangle) = \\vert\\alpha\\vert^2$ and for the $\\vert1\\rangle$ state is $P(\\vert1\\rangle) = \\vert\\beta\\vert^2$.\n",
    "\n",
    "Note that we can also define other orthonormal basis states like $\\vert+\\rangle$ and $\\vert-\\rangle$ where $\\vert+\\rangle = \\frac{1}{\\sqrt2}(\\vert0\\rangle + \\vert1\\rangle)$ and $\\vert-\\rangle = \\frac{1}{\\sqrt2}(\\vert0\\rangle - \\vert1\\rangle)$\n",
    "\n",
    "\n",
    "Many Quantum gates can be represented using the Pauli operators $(\\sigma_x, \\sigma_y, \\sigma_z, \\sigma_I)$ below. These are important gates in quantum computation.\n"
   ]
  },
  {
   "cell_type": "code",
   "execution_count": null,
   "id": "5f9dea23",
   "metadata": {},
   "outputs": [],
   "source": [
    "sigma_x = np.array([[0,1],[1,0]])\n",
    "sigma_y = np.array([[0,1j],[-1j,0]])\n",
    "sigma_z = np.array([[1,0],[0,-1]])\n",
    "sigma_I = np.identity(2)\n",
    "print('Below we show the Pauli Operators which can be used to describe any quantum gate on an individual qubit:')\n",
    "print('Pauli-X: \\n', sigma_x) \n",
    "print('Pauli-Y: \\n', sigma_y)\n",
    "print('Pauli-Z: \\n', sigma_z)\n",
    "print('Pauli-I: \\n', sigma_I)"
   ]
  },
  {
   "cell_type": "markdown",
   "id": "e9989d68",
   "metadata": {},
   "source": [
    "## 3. Quantum Errors: Cause and Effect <a id='errors'></a>\n",
    "\n",
    "In this section we consider different sources of error -- coherent, environmental decoherence, and loss, leakage, measuremnt and initialization.\n",
    "We will apply these errors to two different algorithms.\n",
    "\n",
    "1. A single qubit undergoing N identity opertations\n",
    "$$\\vert\\psi_{final}\\rangle = \\prod_{i}^{N} I_{i} \\vert0\\rangle = \\vert0\\rangle $$\n",
    "where $I \\equiv \\sigma_{I}$\n",
    "\n",
    "If a qubit is initially in the $\\vert0\\rangle $state then this operation in the basis $\\vert0\\rangle$, $\\vert1\\rangle$ would be $\\vert0\\rangle$\n",
    "This can be shown with the code below. (Feel free to play with the initial state values and see what results :) )"
   ]
  },
  {
   "cell_type": "code",
   "execution_count": null,
   "id": "b84aa84a",
   "metadata": {
    "scrolled": true
   },
   "outputs": [],
   "source": [
    "initial_state = np.array([1, 0]) # initalize initial state to |0>\n",
    "n = 10 # number of times to apply the I operator (can be anything)\n",
    "I_i = np.identity(2) # initialize I_i for i = 1 first\n",
    "\n",
    "# Since we are only indexing over i we can multiply I_i with sigma_I n times to arrive at I_n final\n",
    "I_n = np.dot(I_i, sigma_I)\n",
    "for i in range(1, n):\n",
    "    I_n = np.dot(I_n, sigma_I)\n",
    "\n",
    "final_state = np.dot(I_n, initial_state)\n",
    "print('Here we can see that the final state is the same as the initial state. ')\n",
    "print('Final State: ', final_state)"
   ]
  },
  {
   "cell_type": "markdown",
   "id": "c1647111",
   "metadata": {},
   "source": [
    "2. An algorithm of 3 gates acting on a qubit\n",
    "\n",
    "The Hadamard Gate: $ H = \\frac{1}{\\sqrt2} \\begin{pmatrix}\n",
    "1 & 1 \\\\\n",
    "1 & -1\n",
    "\\end{pmatrix}$\n",
    "$$\\vert\\psi\\rangle = HIH\\vert0\\rangle = HI\\frac{1}{\\sqrt{2}}(\\vert0\\rangle + \\vert1\\rangle) = H\\frac{1}{\\sqrt{2}}(\\vert0\\rangle + \\vert1\\rangle) = \\vert0\\rangle$$\n",
    "\n",
    "We can show the above case is correct by applying this algorithm to a single qubit in the $\\vert0\\rangle$ state. (Feel free to play with the initial state values and see what results :))"
   ]
  },
  {
   "cell_type": "code",
   "execution_count": null,
   "id": "b95047de",
   "metadata": {
    "scrolled": true
   },
   "outputs": [],
   "source": [
    "initial_state = np.array([1,0]) # initalize initial state to |0>\n",
    "h = 1/np.sqrt(2)*np.array([[1,1],[1,-1]]) # set the hadamard operator \n",
    "\n",
    "# Below we perform the 3 gate operation and psi just represents the state of the qubit during the operations\n",
    "psi = np.dot(h, initial_state) # apply the first hadamard gate\n",
    "psi = np.dot(sigma_I, psi) # apply a wait stage with the I gate\n",
    "final_state = np.dot(h, psi) # apply the second hadamard gate\n",
    "\n",
    "print('Here we can see that the final state is: ')\n",
    "print('Final State: ', (np.rint(final_state)).astype(int))"
   ]
  },
  {
   "cell_type": "markdown",
   "id": "abe85412",
   "metadata": {},
   "source": [
    "### A. Coherent Quantum Errors: Gates which are incorrectly applied <a id='coherent'></a>\n",
    "\n",
    "This error is usually related to incorrect knowledge of the system dynamics, but it is coherent\n",
    "\n",
    "First we will consider an example which applies an incorrect rotation about the X-axis of the Bloch Sphere:\n",
    "\n",
    "$$ \\vert\\psi_{final}\\rangle = \\prod_{k}^{N} e^{i\\epsilon\\sigma_{x}}\\vert0\\rangle = \\cos(N\\epsilon)\\vert0\\rangle + i\\sin(N\\epsilon)\\vert1\\rangle$$\n",
    "\n",
    "Now we will measure the system in the $\\vert0\\rangle$, $\\vert1\\rangle$ basis. Due to the coherent quantum errors below is the probability of measuing the system in $\\vert0\\rangle$ or $\\vert1\\rangle$:\n",
    "\n",
    "$$ P(\\vert0\\rangle) = \\cos^2(N\\epsilon) \\approx 1 - (N\\epsilon)^2 $$\n",
    "$$ P(\\vert1\\rangle) = \\sin^2(N\\epsilon) \\approx (N\\epsilon)^2$$\n",
    "\n",
    "Thus the probability of error is given below when we want the 'correct' state to be $\\vert0\\rangle$:\n",
    "\n",
    "$$ P_{error} \\approx (N\\epsilon)^2$$ \n",
    "\n",
    "Below we can see a coherent quantum error acting on the initial state with arbitrary $\\epsilon$ and calculate the error due to the X-rotation error N times."
   ]
  },
  {
   "cell_type": "code",
   "execution_count": null,
   "id": "8d089f35",
   "metadata": {},
   "outputs": [],
   "source": [
    "initial_state = np.array([1,0]) # initalize initial state to |0>\n",
    "epsilon = 1e-3 # arbitrary epsilon is set\n",
    "n = 10 # arbitrary N is set\n",
    "# We can convert the exponential to its trigonometric form using euler's identity and some algebraic manipulation\n",
    "final_state = np.dot(np.cos(n*epsilon), initial_state) + np.dot(1j*np.sin(n*epsilon), np.array([0,1]))\n",
    "print('Final State: ', final_state)"
   ]
  },
  {
   "cell_type": "markdown",
   "id": "53a48c7b",
   "metadata": {},
   "source": [
    "We know that the probability of being in a certain state say $\\vert0\\rangle$ is $P(\\vert0\\rangle) = \\alpha^2$ and for $\\vert1\\rangle$ is $P(\\vert1\\rangle) = \\beta^2$ when $\\vert\\psi\\rangle = \\alpha\\vert0\\rangle + \\beta\\vert1\\rangle$"
   ]
  },
  {
   "cell_type": "code",
   "execution_count": null,
   "id": "52ccbdeb",
   "metadata": {},
   "outputs": [],
   "source": [
    "prob_zero = (final_state[0].real**2 + final_state[0].imag**2) # Probability of being in the |0> state\n",
    "prob_one = (final_state[1].real**2 + final_state[1].imag**2) # Probability of being in the |1> state\n",
    "\n",
    "print('Probability of |0> State: ', prob_zero, '\\nProbability of |1> State: ', prob_one)\n",
    "print('We can see when adding the two probabilities we get one: ', (np.rint(prob_zero + prob_one).real).astype(int))"
   ]
  },
  {
   "cell_type": "code",
   "execution_count": null,
   "id": "1b7da909",
   "metadata": {
    "scrolled": true
   },
   "outputs": [],
   "source": [
    "#### Calculating the probability for error: (This is the same as the P(|1>) or 1 - P(|0>))\n",
    "prob_error = prob_one\n",
    "print('Probability of error: prob_one = ', prob_error, ' = 1 - prob_zero = ', 1 - prob_zero)"
   ]
  },
  {
   "cell_type": "markdown",
   "id": "a576c900",
   "metadata": {},
   "source": [
    "### B. Environmental Decoherence <a id='decoherence'></a>\n",
    "\n",
    "This type of error usually stems from noise, heat, or other external factors.\n",
    "In this example we will focus on an environment which is a two level system and has two basis states: $\\vert e_0\\rangle$ and $ \\vert e_1\\rangle$.\n",
    "These satisfy the relations $ \\langle e_i\\vert e_j\\rangle = \\delta_{ij}$ and $ \\vert e_0\\rangle\\langle e_0\\vert + \\vert e_1\\rangle\\langle e_1\\vert = I$.\n",
    "\n",
    "We will assume 2 things:\n",
    "\n",
    "1. The environment coupling works as follows: when the qubit is in the $\\vert1\\rangle$ state the coupling flips the environment state, and when the qubit is in the $\\vert0\\rangle$ state nothing happens.\n",
    "2. The system/environemnt only interact during the wait stage when the identity operator is acting.\n",
    "\n",
    "Let us assume the environment is initialized to the state $\\vert E\\rangle = \\vert e_0\\rangle$ and lets couple it to the 2nd system we considered in part lll which applies 3 gates on the initial state:\n",
    "$$ HIH\\vert0\\rangle\\vert E\\rangle = \\frac{1}{2}(\\vert0\\rangle + \\vert1\\rangle)\\vert e_0\\rangle + \\frac{1}{2}(\\vert0\\rangle - \\vert1\\rangle)\\vert e_1\\rangle$$\n",
    "\n",
    "This can be simplified to the following since the error operator flips when acting on $\\vert1\\rangle$:\n",
    "$$ HIH\\vert0\\rangle\\vert E\\rangle = HI\\frac{1}{\\sqrt{2}}(\\vert0\\rangle + \\vert1\\rangle)\\vert e_0\\rangle \n",
    "= H\\frac{1}{\\sqrt{2}}(\\vert0\\rangle\\vert e_0\\rangle + \\vert1\\rangle\\vert e_1\\rangle)\n",
    "=\\frac{1}{2}(\\vert0\\rangle + \\vert1\\rangle)\\vert e_0\\rangle + \\frac{1}{2}(\\vert0\\rangle - \\vert1\\rangle)\\vert e_1\\rangle$$\n",
    "\n",
    "Below is a representation to implement this error operation as a multiplication of matrices:\n",
    "$$(H_q \\otimes I_E)E_A(I_q \\otimes I_E)(H_q \\otimes I_E)\\vert qE_0\\rangle$$\n",
    "where $$H_q =\\frac{1}{\\sqrt2} \\begin{pmatrix}\n",
    "1 & 1 \\\\\n",
    "1 & -1\n",
    "\\end{pmatrix},$$\n",
    "\n",
    "$$I_E = I_q =\\begin{pmatrix}\n",
    "1 & 0 \\\\\n",
    "0 & 1\n",
    "\\end{pmatrix},$$\n",
    "\n",
    "$$E_A = \\begin{pmatrix}\n",
    "1 & 0 & 0 & 0\\\\\n",
    "0 & 1 & 0 & 0\\\\\n",
    "0 & 0 & 0 & 1\\\\\n",
    "0 & 0 & 1 & 0\n",
    "\\end{pmatrix}$$\n",
    "\n",
    "$E_A$ is similar to the CNOT gate in this case due to the assumptions made by the paper.\n",
    "\n",
    "The final state below is exactly the state we get when applying the $HIH\\vert0\\rangle\\vert E\\rangle$ operation."
   ]
  },
  {
   "cell_type": "code",
   "execution_count": null,
   "id": "a8893553",
   "metadata": {},
   "outputs": [],
   "source": [
    "error_gate = np.array([[1, 0, 0, 0], [0, 1, 0, 0], [0, 0, 0, 1], [0, 0, 1, 0]]) # E_A\n",
    "hadamard = np.kron(h, sigma_I) # H_q\n",
    "identity = np.kron(sigma_I, sigma_I) # I_E = I_q\n",
    "initial_state = np.array([1, 0, 0, 0]) # Tensor of initial state of qubit |0> and E = |e_0>\n",
    "final_state = np.dot(hadamard, np.dot(error_gate, np.dot(identity, np.dot(hadamard, initial_state))))\n",
    "print('Final State: ', final_state)"
   ]
  },
  {
   "cell_type": "markdown",
   "id": "7bcb2272",
   "metadata": {},
   "source": [
    "### a. Density Matrix representation  <a id='density'></a>\n",
    "\n",
    "However, now since we are considering decoherent operations, we are no longer in a pure state. Instead we have turned our quantum states into a classical mixed state, and we must move to a density matrix to be able to represent it. This matrix represents the lack of knowledge of the system, being a description of the system at all possible measurement results. \n",
    "\n",
    "We know that the density matix for a given state is $ \\rho_f = \\sum_{j}^{}{p_j\\vert\\psi_j\\rangle\\langle\\psi_j\\vert}$ where $p_j$ is the probability of being in the state $\\vert\\psi_j\\rangle$. \n",
    "\n",
    "To take the density matrix of the state $\\vert\\psi\\rangle = \\frac{1}{2}(\\vert0\\rangle + \\vert1\\rangle)\\vert e_0\\rangle + \\frac{1}{2}(\\vert0\\rangle - \\vert1\\rangle)\\vert e_1\\rangle$ from above:\n",
    "\n",
    "$$ \\rho_f = \\sum_{j}^{}{p_j\\vert\\psi_j\\rangle\\langle\\psi_j\\vert} = p\\vert\\psi\\rangle\\langle\\psi\\vert = \\biggl(\\frac{1}{2}\\biggr)^2 \\biggl((\\vert0\\rangle + \\vert1\\rangle)\\vert e_0\\rangle + (\\vert0\\rangle - \\vert1\\rangle)\\vert e_1\\rangle\\biggr) \\biggl((\\langle0\\vert + \\langle1\\vert)\\langle e_0\\vert + (\\langle0\\vert - \\langle1\\vert)\\langle e_1\\vert \\biggr) $$ \n",
    "\n",
    "$$ = \\frac{1}{4} \\biggl[ \\biggl( (\\vert0\\rangle + \\vert1\\rangle)\\vert e_0\\rangle\\biggr)\n",
    "\\biggl( (\\langle0\\vert + \\langle1\\vert)\\langle e_0\\vert\\biggr) + \\biggl( (\\vert0\\rangle - \\vert1\\rangle)\\vert e_1\\rangle\\biggr) \\biggl( (\\langle0\\vert - \\langle1\\vert)\\langle e_1\\vert\\biggr) \\\\+ \\biggl( (\\vert0\\rangle + \\vert1\\rangle)\\vert e_0\\rangle\\biggr)\n",
    "\\biggl( (\\langle0\\vert - \\langle1\\vert)\\langle e_1\\vert\\biggr) + \\biggl( (\\vert0\\rangle - \\vert1\\rangle)\\vert e_1\\rangle\\biggr) \\biggl( (\\langle0\\vert + \\langle1\\vert)\\langle e_0\\vert\\biggr) \\biggr]$$\n",
    "\n",
    "\n",
    "After a little bit of algebra from above we arrive at:\n",
    "$$ \\rho_f = \\frac{1}{4}(\\vert0\\rangle\\langle0\\vert + \\vert0\\rangle\\langle1\\vert + \\vert1\\rangle\\langle0\\vert + \\vert1\\rangle\\langle1\\vert)\\vert e_0\\rangle\\langle e_0\\vert\n",
    "+ \\frac{1}{4}(\\vert0\\rangle\\langle0\\vert - \\vert0\\rangle\\langle1\\vert - \\vert1\\rangle\\langle0\\vert + \\vert1\\rangle\\langle1\\vert)\\vert e_1\\rangle\\langle e_1\\vert$$\n",
    "$$ + \\frac{1}{4}(\\vert0\\rangle\\langle0\\vert - \\vert0\\rangle\\langle1\\vert + \\vert1\\rangle\\langle0\\vert - \\vert1\\rangle\\langle1\\vert)\\vert e_0\\rangle\\langle e_1\\vert\n",
    "+ \\frac{1}{4}(\\vert0\\rangle\\langle0\\vert + \\vert0\\rangle\\langle1\\vert - \\vert1\\rangle\\langle0\\vert - \\vert1\\rangle\\langle1\\vert)\\vert e_1\\rangle\\langle e_0\\vert $$\n",
    "\n",
    "Since we dont know the environmental degrees of freedom we will trace over this part of the system (also known as a partial trace): \n",
    "\n",
    "https://en.wikipedia.org/wiki/Partial_trace#Partial_trace_for_operators_on_Hilbert_spaces),\n",
    "\n",
    "https://www.ryanlarose.com/uploads/1/1/5/8/115879647/quic06-states-trace.pdf (pg6),\n",
    "\n",
    "http://mmrc.amss.cas.cn/tlb/201702/W020170224608149940643.pdf (Section 2.4.3)\n",
    "\n",
    "$$ TR_E (\\rho_f) = \\frac{1}{4}(\\vert0\\rangle\\langle0\\vert + \\vert0\\rangle\\langle1\\vert + \\vert1\\rangle\\langle0\\vert + \\vert1\\rangle\\langle1\\vert)\n",
    "+ \\frac{1}{4}(\\vert0\\rangle\\langle0\\vert - \\vert0\\rangle\\langle1\\vert - \\vert1\\rangle\\langle0\\vert + \\vert1\\rangle\\langle1\\vert) = \\frac{1}{2} \\biggl( \\vert0\\rangle\\langle0\\vert+ \\vert1\\rangle\\langle1\\vert \\biggr) $$\n",
    "\n",
    "As we can see from this result, the system is $\\vert0\\rangle$ 50% of the time and $\\vert1\\rangle$ 50% of the time. Additionally, the 2nd hadamard gate has no effect on the qubit state since this sequence of gates should take the state $ \\frac{1}{2}(\\vert0\\rangle + \\vert1\\rangle) $ to $ \\vert0\\rangle$ but does not due to the environmental coupling."
   ]
  },
  {
   "cell_type": "markdown",
   "id": "614a83e3",
   "metadata": {},
   "source": [
    "### b. Partial Trace Example <a id='partial'></a>\n",
    "\n",
    "Let $\\rho_{AB} = \\vert\\Phi_{AB}^+\\rangle\\langle\\Phi_{AB}^+\\vert$,  where $ \\vert\\Phi_{AB}^+\\rangle = \\frac{1}{\\sqrt2}\\biggl(\\vert00\\rangle + \\vert11\\rangle\\biggr)$. Therefore the density operator is \n",
    "\n",
    "$$ \\rho_{AB} = \\frac{1}{2}\\biggl(\\vert00\\rangle\\langle00\\vert + \\vert00\\rangle\\langle11\\vert + \\vert11\\rangle\\langle00\\vert + \\vert11\\rangle\\langle11\\vert\\biggr)$$\n",
    "\n",
    "Now the reduced density operator (Partial Trace over B) for system A defined as $\\rho_A = TR_B(\\rho_{AB})$. Thus since $TR_B$ acts on the B system we have $TR_B(\\vert a_1\\rangle\\langle a_2\\vert \\otimes \\vert b_1\\rangle\\langle b_2\\vert) =  \\vert a_1\\rangle\\langle a_2\\vert TR(\\vert b_1\\rangle\\langle b_2\\vert)$.\n",
    "And finally since $TR(\\vert b_1\\rangle\\langle b_2\\vert) = \\langle b_2\\vert b_1\\rangle $ it is clear to see that $ TR_B(\\rho_{AB}) = \\vert a_1\\rangle\\langle a_2\\vert \\langle b_2\\vert b_1\\rangle $.\n",
    "\n",
    "Thus for this example: \n",
    "\n",
    "$$TR_B(\\rho_{AB}) = \\frac{1}{2} \\biggl( TR_B (\\vert00\\rangle\\langle00\\vert) + TR_B (\\vert00\\rangle\\langle11\\vert) + TR_B (\\vert11\\rangle\\langle00\\vert) + TR_B (\\vert11\\rangle\\langle11\\vert)\\biggr)$$\n",
    "\n",
    "$$ = \\frac{1}{2} \\biggl( \\vert0\\rangle\\langle0\\vert \\langle0\\vert0\\rangle + \\vert0\\rangle\\langle1\\vert \\langle1\\vert0\\rangle + \\vert1\\rangle\\langle0\\vert \\langle0\\vert1\\rangle + \\vert1\\rangle\\langle1\\vert \\langle1\\vert1\\rangle \\biggr) = \\frac{1}{2} \\biggl( \\vert0\\rangle\\langle0\\vert \\cdot (1) + \\vert0\\rangle\\langle1\\vert \\cdot (0) + \\vert1\\rangle\\langle0\\vert \\cdot (0) + \\vert1\\rangle\\langle1\\vert \\cdot (1) \\biggr) =  \\frac{1}{2} \\biggl( \\vert0\\rangle\\langle0\\vert+ \\vert1\\rangle\\langle1\\vert \\biggr)$$"
   ]
  },
  {
   "cell_type": "markdown",
   "id": "886ac292",
   "metadata": {},
   "source": [
    "## C. Simple models of loss, leakage, measurement and initialization <a id='models'></a>\n",
    "\n",
    "In this section, important & frequently used models will be discerned to identify Quantum Errors.\n",
    "\n",
    "First we will model Measurement Errors using 2 methods.\n",
    "\n",
    "#### Positive Operator Value Measures (POVM's)\n",
    "\n",
    "POVMs in quantum error correction help us understand and deal with errors by allowing measurements that account for variations from the intended quantum states.\n",
    "In Method 1 we use the following POVM's: \n",
    "\n",
    "$$F_0 = \\left ( 1-p_m \\right ) |0\\rangle\\langle0| + p_m |1\\rangle\\langle1|$$\n",
    "$$F_1 = \\left ( 1-p_m \\right ) |1\\rangle\\langle1| + p_m |0\\rangle\\langle0|$$\n",
    "\n",
    "* $F_0 (F_1)$: This represents the operator corresponding to the outcome $\\vert0\\rangle$ ($\\vert1\\rangle$) respectively in the measurement. \n",
    "* $p_m$: This variable represents the probability of measurement error, in this case it would be the probability of obtaining the outcome $\\vert1\\rangle$ ($\\vert0\\rangle$) respectively (as opposed to outcome $\\vert0\\rangle$ ( $\\vert1\\rangle$) respectively) in the measurement. It is a parameter that can be adjusted to control the likelihood of different outcomes.\n",
    "* $(1 - p_m)$: This term represents the probability of obtaining outcome $\\vert0\\rangle$ ($\\vert1\\rangle$) respectivelyin the measurement. It is derived from subtracting the probability of outcome $\\vert1\\rangle$ ($\\vert0\\rangle$) respectively from 1, ensuring that the probabilities sum up to 1."
   ]
  },
  {
   "cell_type": "code",
   "execution_count": null,
   "id": "c8617aa9",
   "metadata": {},
   "outputs": [],
   "source": [
    "# Compute density matrix (rho)\n",
    "psi = np.array([[1, 0]])\n",
    "rho = np.kron(psi, psi.conjugate().T)\n",
    "print(rho)\n",
    "# Computing  F_0 and F_1\n",
    "\n",
    "# Define the parameter p_m (probability of outcome \"1\")\n",
    "p_m = 0.3  # You can change this value as desired\n",
    "\n",
    "# Define the column vectors for |0> and |1>\n",
    "ket_0 = np.array([1, 0])\n",
    "ket_1 = np.array([0, 1])\n",
    "\n",
    "# Define the row vectors for <0| and <1|\n",
    "bra_0 = np.array([[1],[0]])\n",
    "bra_1 = np.array([[0],[1]])\n",
    "\n",
    "# Finally, we can compute F_0 using np.kron for both ket and bra vectors\n",
    "# Since |0> <0|, or ket-0 (2x1 vector) x bra-0 (1x2 scalar)\n",
    "F_0 = (1 - p_m) * np.kron(ket_0, bra_0) + p_m * np.kron(ket_1, bra_1)\n",
    "print(\"F_0:\\n\", F_0)\n",
    "\n",
    "# Compute F_1 using np.kron for both ket and bra vectors\n",
    "F_1 = (1 - p_m) * np.kron(ket_1, bra_1) + p_m * np.kron(ket_0, bra_0)\n",
    "print(\"F_1:\\n\", F_1)"
   ]
  },
  {
   "cell_type": "markdown",
   "id": "e36004c1",
   "metadata": {},
   "source": [
    "#### In Method 2 we apply the following mapping to the qubit:\n",
    "\n",
    "$$ \\rho \\to \\rho ' = \\left ( 1-p_m \\right )\\rho + p_m X\\rho X $$\n",
    "\n",
    "Applying the mapping to a qubit means transforming the state of the qubit according to the given formula to account for the effect of a certain operation or measurement. So, the meaning of the mapping is that it modifies the original state of the qubit to account for the specified scaling and transformation operations.  Therefore, the mapping onto the qubit transforms the initial state p according, where p' is the updated state of the qubit.\n",
    "$\\rho$ ' = updated state of qubit\n",
    "\n",
    "Below we show an example of how we would compute $\\rho'$:\n",
    "\n",
    "$$\\rho' = (1 - p_m) \\rho + p_m X\\rho X = (1 - p_m) \\begin{pmatrix} \\rho_{00} & \\rho_{01} \\\\ \\rho_{10} & \\rho_{11} \\end{pmatrix} + p_m \\begin{pmatrix} 0 & 1 \\\\ 1 & 0 \\end{pmatrix} \\begin{pmatrix} \\rho_{00} & \\rho_{01} \\\\ \\rho_{10} & \\rho_{11} \\end{pmatrix} \\begin{pmatrix} 0 & 1 \\\\ 1 & 0 \\end{pmatrix} = (1 - p_m) \\begin{pmatrix} \\rho_{00} & \\rho_{01} \\\\ \\rho_{10} & \\rho_{11} \\end{pmatrix} + p_m \\begin{pmatrix} \\rho_{01} & \\rho_{00} \\\\ \\rho_{11} & \\rho_{10} \\end{pmatrix}$$\n",
    "\n",
    "Hence, the expression for the updated state $\\rho'$ after applying the mapping equation is:\n",
    "\n",
    "$$\\rho' = \\begin{pmatrix} (1 - p_m) \\rho_{00} + p_m \\rho_{01} & (1 - p_m) \\rho_{01} + p_M \\rho_{00} \\\\ (1 - p_m) \\rho_{10} + p_m \\rho_{11} & (1 - p_m) \\rho_{11} + p_m \\rho_{10} \\end{pmatrix}$$\n",
    "\n",
    "This derivation shows how the original state $\\rho$ is transformed to the updated state $\\rho'$ by scaling the elements of $\\rho$ with $(1 - p_m)$ and performing the X-gate transformation on the corresponding elements."
   ]
  },
  {
   "cell_type": "code",
   "execution_count": null,
   "id": "adba16d2",
   "metadata": {},
   "outputs": [],
   "source": [
    "# Define the initial state of the qubit, rho\n",
    "print(\"rho\", rho)\n",
    "\n",
    "# Compute rho' using the given formula\n",
    "rho_prime =  (1-p_m)*rho + p_m*np.dot(sigma_x, np.dot(rho, sigma_x))\n",
    "print(\"rho prime (updated)\", rho_prime)\n"
   ]
  },
  {
   "cell_type": "markdown",
   "id": "995bcd2c",
   "metadata": {},
   "source": [
    "## a. Determine Measurement projectors <a id='projectors'></a>\n",
    "\n",
    "We will first define the measurement projectors $A_0$ and $A_1$ as\n",
    "\n",
    "$$A_0 = |0\\rangle\\langle0| \\space and \\space A_1 = |1\\rangle\\langle1|$$\n",
    "\n",
    "When we perform a measurement, we are interested in obtaining information about the state of a system. A measurement projector (like $A_0$ and $A_1$ helps us extract that info by projecting the state onto the specific outcome we want to observe. In this case, we want to project the measurements onto the $(|0\\rangle, |1\\rangle)$ basis.\n",
    "\n",
    "Tracing $F_0$ and $F_1$ with the quantum state $\\rho$ gives us insights into the probabilities and expected values of the measurement outcomes, helping us understand the behavior of the quantum system.\n",
    "After performing a perfect measurement in the $(|0\\rangle, |1\\rangle)$ basis, we can calculate the trace of $F_0$ operating on the quantum state $\\rho$.\n",
    "\n",
    "In quantum mechanics, the POVM element $F_i$ is associated with the measurement outcome i, such that the probability of obtaining it when making a measurement on the quantum state $\\rho$ is given by $Prob(i)=tr(\\rho F_i)$\n",
    "\n",
    "#### Using Method 1 ($\\rho$):\n",
    "\n",
    "$$Tr(F_0 \\rho)=\\left( 1-p_M \\right)Tr\\left( A_0 \\rho \\right))+ p_MTr(A_1\\rho)),$$\n",
    "$$Tr(F_1 \\rho)=\\left( 1-p_M \\right)Tr\\left( A_1 \\rho \\right))+ p_MTr(A_0\\rho)),$$\n",
    "\n",
    "#### Using Method 2 ($\\rho'$):\n",
    "\n",
    "$$Tr(A_0 \\rho')=\\left( 1-p_M \\right)Tr\\left(A_0 \\rho \\right))+ p_MTr(XA_0 X_p))$$\n",
    "$$= \\left( 1-p_M \\right)Tr\\left(A_0 \\rho \\right))+ p_MTr(A_1\\rho))$$\n",
    "$$$$\n",
    "$$Tr(A_1 \\rho')=\\left( 1-p_M \\right)Tr\\left(A_1 p \\right))+ p_MTr(XA_1 X_p))$$\n",
    "$$= \\left( 1-p_M \\right)Tr\\left(A_1 \\rho \\right))+ p_MTr(A_0\\rho))$$\n"
   ]
  },
  {
   "cell_type": "markdown",
   "id": "b9f2cbb5",
   "metadata": {},
   "source": [
    "## b. Determine Probabilities of Collapsed State  <a id='probabilities'></a>\n",
    "\n",
    "Now we will find probabilties of being in a certain state by tracing\n",
    "\n",
    "#### Introduction to Tracing\n",
    "\n",
    "1. \"Trace\" refers to a math operation performed on operators or matrices (as you'll say below)\n",
    "2. The trace of a matrix is obtained by summing its diagonal elements.\n",
    "3. When analyzing measurements, we use tracing to evaluate the probabilities of specific measurement outcomes.\n",
    "4. Since it's a math operation, it's not directly related to manipulating the physical qubits themselves.\n",
    "5. Finally, tracing helps us learn about the presence or absence of specific quantum states by evaluating the diagonal elements of operators or matrices."
   ]
  },
  {
   "cell_type": "markdown",
   "id": "1425e943",
   "metadata": {},
   "source": [
    "See [Wikipedia](https://en.wikipedia.org/wiki/POVM) for more on POVMs. We will go over an example of deriving $\\text{Tr}(A_0 \\rho')$ below. To derive the equation, let's start with the expression:\n",
    "\n",
    "$$\\text{Tr}(A_0 \\rho') = \\left(1-p_M\\right)\\text{Tr}(A_0 \\rho) + p_M\\text{Tr}(XA_0 X\\rho)$$\n",
    "\n",
    "First, let's calculate $\\text{Tr}(XA_0 X\\rho)$:\n",
    "\n",
    "$$\\text{Tr}(A_0 \\rho') = \\left(1-p_M\\right)\\text{Tr}\\left(\\begin{pmatrix} 1 & 0 \\\\ 0 & 0 \\end{pmatrix} \\begin{pmatrix} \\rho_{00} & \\rho_{01} \\\\ \\rho_{10} & \\rho_{11} \\end{pmatrix}\\right) + p_M\\text{Tr}\\left(\\begin{pmatrix} 0 & 1 \\\\ 1 & 0 \\end{pmatrix} \\cdot \\begin{pmatrix} 1 & 0 \\\\ 0 & 0 \\end{pmatrix} \\cdot \\begin{pmatrix} 0 & 1 \\\\ 1 & 0 \\end{pmatrix} \\cdot \\begin{pmatrix} \\rho_{00} & \\rho_{01} \\\\ \\rho_{10} & \\rho_{11} \\end{pmatrix} \\right)$$\n",
    "\n",
    "Simplifying the matrix multiplication and take the trace of each:\n",
    "\n",
    "$$ = \\left(1-p_M\\right)\\text{Tr}\\begin{pmatrix} \\rho_{00} & \\rho_{01} \\\\ 0 & 0 \\end{pmatrix} + p_M\\text{Tr}\\begin{pmatrix} 0 & 0 \\\\ \\rho_{10} & \\rho_{11} \\end{pmatrix} = \\left(1-p_M\\right) \\rho_{00} + p_M \\rho_{11}$$"
   ]
  },
  {
   "cell_type": "code",
   "execution_count": null,
   "id": "595dd0e1",
   "metadata": {
    "scrolled": true
   },
   "outputs": [],
   "source": [
    "def trace_rho(rho, rho_prime):\n",
    "    #This function uses both rho and rho' for the two methods involved in tracing\n",
    "\n",
    "\n",
    "    # Define the measurement projectors A_0 and A_1\n",
    "    A_0 = np.kron(ket_0, bra_0)  # Measurement projector for |0>\n",
    "    A_1 = np.kron(ket_1, bra_1)  # Measurement projector for |1>\n",
    "\n",
    "    # Calculate the trace of F_0 multiplied by the quantum state p\n",
    "    traceF0_rho = np.trace(np.dot(F_0, rho))\n",
    "\n",
    "    # Calculate the trace of F_1 multiplied by the quantum state p\n",
    "    traceF1_rho = np.trace(np.dot(F_1, rho))\n",
    "\n",
    "    # Calculate the trace of A_0 multiplied by the updated quantum state p_prime\n",
    "    traceA0_rho_prime = np.trace(np.dot(A_0, rho_prime))\n",
    "\n",
    "    # Calculate the trace of A_1 multiplied by the updated quantum state p_prime\n",
    "    traceA1_rho_prime = np.trace(np.dot(A_1, rho_prime))\n",
    "\n",
    "    return traceF0_rho, traceF1_rho, traceA0_rho_prime, traceA1_rho_prime\n",
    "    # Print the measurement outcome probabilities"
   ]
  },
  {
   "cell_type": "markdown",
   "id": "bb60554b",
   "metadata": {},
   "source": [
    "So, either method will result in the same probabilities "
   ]
  },
  {
   "cell_type": "markdown",
   "id": "56092574",
   "metadata": {},
   "source": [
    "### Qubit Collapse\n",
    "\n",
    "When using the Positive Operator Value Measures (POVMs) (Method 1), the collapsed state of the qubit is given by:\n",
    "\n",
    "$$\\rho\\to \\frac {M_i\\rho M_i^{\\dagger}}{Tr\\left( F_i\\rho \\right)},\\quad i=0,1,$$\n",
    "\n",
    "where we use the measurement operators below:\n",
    "\n",
    "$$M_0=\\sqrt{1-p_M} |0\\rangle\\langle0| + \\sqrt{p_M}|1\\rangle\\langle1|,$$\n",
    "$$M_1=\\sqrt{1-p_M} |1\\rangle\\langle1| + \\sqrt{p_M}|0\\rangle\\langle0|$$"
   ]
  },
  {
   "cell_type": "markdown",
   "id": "257e5045",
   "metadata": {},
   "source": [
    "Below is a representation for the computation using  i=0 for $ \\rho \\to$ $\\frac{M_0 \\rho M_0^\\dagger}{\\text{Tr}(F_0 \\rho)}$\n",
    "\n",
    "\n",
    "First, calculate the terms for\n",
    "\n",
    "$$M_0=\\sqrt{1-p_M} |0\\rangle\\langle0| + \\sqrt{p_M}|1\\rangle\\langle1| = \\sqrt{1-p_M} \\begin{pmatrix} 1 & 0 \\\\ 0 & 0 \\end{pmatrix} + \\sqrt{p_M} \\begin{pmatrix} 0 & 0 \\\\ 0 & 1 \\end{pmatrix} = \\begin{pmatrix} \\sqrt{1-p_M} & 0 \\\\ 0 & \\sqrt{p_M} \\end{pmatrix}$$\n",
    "\n",
    "\n",
    "Plugging into for \n",
    "\n",
    "$$ \\rho \\to \\frac{M_0 \\rho M_0^\\dagger}{\\text{Tr}(F_0 \\rho)} \\begin{pmatrix} \\sqrt{1-p_M} & 0 \\\\ 0 & \\sqrt{p_M} \\end{pmatrix} \\rho\\begin{pmatrix} \\sqrt{1-p_M} & 0 \\\\ 0 & \\sqrt{p_M} \\end{pmatrix} ^\\dagger$$\n",
    "\n",
    "Then dividing by our Trace where $F_0 \\rho = \\left ( 1-p_m \\right ) \\vert0\\rangle\\langle0\\vert + p_m \\vert1\\rangle\\langle1\\vert  \\rho$ and  $Tr(F_0 \\rho)=\\left( 1-p_M \\right)Tr\\left( A_0 \\rho \\right))+ p_MTr(A_1\\rho))$\n",
    "\n",
    "Substituting the values of $A_0$ and $A_1$ from $F_0$ and $F_1$: \n",
    "\n",
    "$$ Tr(F_0 \\rho) = (1-p_M)Tr\\left(\\begin{pmatrix} 1 & 0 \\\\ 0 & 0 \\end{pmatrix} \\rho \\right) + p_MTr\\left(\\begin{pmatrix} 0 & 0 \\\\ 0 & 1 \\end{pmatrix} \\rho \\right) = (1-p_M)Tr\\left(\\begin{pmatrix} \\rho_{00} & 0 \\\\ 0 & 0 \\end{pmatrix} \\right) + p_MTr\\left(\\begin{pmatrix} 0 & 0 \\\\ 0 & \\rho_{11} \\end{pmatrix} \\right)$$\n",
    "\n",
    "Since the trace of a 2x2 matrix is simply the sum of its diagonal elements:\n",
    "\n",
    "$$ Tr(F_0 \\rho) = (1-p_M)(\\rho_{00} + \\rho_{11}) + p_M \\rho_{11} $$\n",
    "\n",
    "Now, we can substitute this expression back into the original expression:\n",
    "\n",
    "$$\\frac{M_0 \\rho M_0^\\dagger}{Tr(F_0 \\rho)} = \\frac{\\begin{pmatrix} \\sqrt{1-p_M} & 0 \\\\ 0 & \\sqrt{p_M} \\end{pmatrix} \\rho \\begin{pmatrix} \\sqrt{1-p_M} & 0 \\\\ 0 & \\sqrt{p_M} \\end{pmatrix}^\\dagger}{(1-p_M)\\rho_{00} + p_M \\rho_{11}} $$"
   ]
  },
  {
   "cell_type": "markdown",
   "id": "35916bfd",
   "metadata": {},
   "source": [
    "Below we make a function that calculates a density matrix from a given $\\vert\\psi\\rangle$:"
   ]
  },
  {
   "cell_type": "code",
   "execution_count": null,
   "id": "5b70279b",
   "metadata": {},
   "outputs": [],
   "source": [
    "def compute_density_matrix(psi):\n",
    "    psi = np.array(psi)\n",
    "    psi_conj = np.conjugate(psi)\n",
    "    num_states = len(psi)  # Number of states in the superposition\n",
    "    rho_f = np.zeros((num_states, num_states), dtype=complex)  # Initialize the density matrix\n",
    "\n",
    "    # Compute the density matrix by summing over individual states\n",
    "    for j in range(num_states):\n",
    "        for f in range(num_states):\n",
    "            # Contribution of state |ψj⟩ to the density matrix element ρf[j, f]\n",
    "            rho_f[j, f] = psi[j] * np.conjugate(psi[f])  # j and f correspond to the row and column indices of the density matrix\n",
    "\n",
    "    return rho_f\n",
    "\n",
    "# Santi's Derivation Example\n",
    "\n",
    "# Define the state vector psi\n",
    "psi = [(1/2)*(0+1), (1/2)*(0-1)]  # [(1/2)(|0⟩ + |1⟩), (1/2)(|0⟩ - |1⟩)]\n",
    "\n",
    "\n",
    "# Compute the density matrix\n",
    "rho_f = compute_density_matrix(psi)\n",
    "\n",
    "# Print the density matrix with real values\n",
    "print(np.real(rho_f))\n"
   ]
  },
  {
   "cell_type": "code",
   "execution_count": null,
   "id": "65c8ad73",
   "metadata": {},
   "outputs": [],
   "source": [
    "def compute_density_matrix(psi):\n",
    "    rho = np.kron(psi, psi.conjugate().T)\n",
    "    return rho"
   ]
  },
  {
   "cell_type": "markdown",
   "id": "c45100b4",
   "metadata": {},
   "source": [
    "#### Here we compute the collapsed state of the qubit after measurment error"
   ]
  },
  {
   "cell_type": "code",
   "execution_count": null,
   "id": "4e56ce87",
   "metadata": {},
   "outputs": [],
   "source": [
    "def compute_density_matrix(psi):\n",
    "    psi = np.array(psi)\n",
    "    psi_conj = np.conjugate(psi)\n",
    "    num_states = len(psi)  # Number of states in the superposition\n",
    "    \n",
    "    rho_f = np.outer(psi, psi_conj)  # Outer product of psi and its conjugate\n",
    "    \n",
    "    return rho_f\n",
    "\n",
    "def compute_collapsed_state(psi, p_M):\n",
    "    rho = compute_density_matrix(psi)\n",
    "    rho_prime = (1-p_M)*rho + p_M*np.dot(sigma_x, np.dot(rho, sigma_x))\n",
    "    \n",
    "    trF0_rho, trF1_rho, trA0_rho_prime, trA1_rho_prime = trace_rho(rho, rho_prime)\n",
    "    \n",
    "    print(\"Expected Probability Measurement Values:\")\n",
    "    print(\"Probability value of measuring |0> with trF0_rho: \", trF0_rho)\n",
    "    print(\"Probability value of measuring |1> with trF1_rho: \", trF1_rho)\n",
    "    print(\"Probability value of measuring |0> with trA0_rho_prime after mapping : \", trA0_rho_prime)\n",
    "    print(\"Probability value of measuring |1> with trA1_rho_prime after mapping: \", trA1_rho_prime)\n",
    "    \n",
    "    # Define the M_0 matrix\n",
    "    M_0 = np.sqrt(1 - p_M) * np.kron(ket_0, bra_0) + np.sqrt(p_M) * np.kron(np.array(ket_1), bra_1)\n",
    "\n",
    "    # Define the M_1 matrix\n",
    "    M_1 = np.sqrt(1 - p_M) * np.kron(ket_1, bra_1) + np.sqrt(p_M) * np.kron(ket_0, bra_0)\n",
    "    \n",
    "    # Compute the collapsed state for outcome 0\n",
    "    collapsed_state_0 = np.dot(np.dot(M_0, rho), M_0.conj().T)\n",
    "    collapsed_state_0 /= np.trace(collapsed_state_0)  # Normalize the collapsed density matrix\n",
    "\n",
    "    # Compute the collapsed state for outcome 1\n",
    "    collapsed_state_1 = np.dot(np.dot(M_1, rho), M_1.conj().T)\n",
    "    collapsed_state_1 /= np.trace(collapsed_state_1)  # Normalize the collapsed density matrix\n",
    "\n",
    "    # Collapsed state for outcome 0\n",
    "    print(\"\\nCollapsed density matrix 0:\")\n",
    "    print(collapsed_state_0)\n",
    "    \n",
    "    final_state_0 = np.array([np.sqrt(collapsed_state_0[0][0]), np.sqrt(collapsed_state_0[1][1])])\n",
    "    print(\"Final State 0: \", final_state_0[0], '|0> + ', final_state_0[1], '|1>')\n",
    "\n",
    "    # Collapsed state for outcome 1\n",
    "    print(\"\\nCollapsed density matrix 1:\")\n",
    "    print(collapsed_state_1)\n",
    "    \n",
    "    final_state_1 = np.array([np.sqrt(collapsed_state_1[0][0]), np.sqrt(collapsed_state_1[1][1])])\n",
    "    print(\"Final State 1: \", final_state_1[0], '|0> + ', final_state_1[1], '|1>')\n",
    "\n",
    "# Example usage\n",
    "# psi = 1/np.sqrt(2) * np.array([[1,1]])\n",
    "psi = np.array([[.8, .6]])\n",
    "p_M = 0.459889\n",
    "\n",
    "\n",
    "\n",
    "compute_collapsed_state(psi, p_M)\n"
   ]
  },
  {
   "cell_type": "markdown",
   "id": "a7a12132",
   "metadata": {},
   "source": [
    "## c. Extra Information <a id='extra'></a>\n",
    "\n",
    "## Qubit Loss"
   ]
  },
  {
   "cell_type": "markdown",
   "id": "c487a4fa",
   "metadata": {},
   "source": [
    "Qubit loss refers to when a qubit is no longer accessible or present in a quantum system. This can be decoherence or physical degradation, loss through measurment, or coupling failure. When a qubit is lost, it can't be directly measured or coupled to other ancillary systems."
   ]
  },
  {
   "cell_type": "markdown",
   "id": "15c8f564",
   "metadata": {},
   "source": [
    "### Modeling Qubit Loss"
   ]
  },
  {
   "cell_type": "markdown",
   "id": "5baac056",
   "metadata": {},
   "source": [
    "Modeled by removing the lost qubit from the system. Reduces the dimensionality of the qubit space by a factor of two. Again, qubit loss is represented by tracing out the lost qubit, denoted as Tri(ρ). Where i = index of the lost qubit."
   ]
  },
  {
   "cell_type": "markdown",
   "id": "56b37c92",
   "metadata": {},
   "source": [
    "### Equivalence to Incoherent Processes"
   ]
  },
  {
   "cell_type": "markdown",
   "id": "304a5f9e",
   "metadata": {},
   "source": [
    "Qubit loss is equivalent to incoherent processes such as environmental coupling. Even though this model of qubit loss is equivalent to incoherent processes such as environmental coupling, correcting this type of error requires additional machinery on top of standard QEC protocols."
   ]
  },
  {
   "cell_type": "markdown",
   "id": "97241aa2",
   "metadata": {},
   "source": [
    "### Additional Machinery for Correcting Qubit Loss"
   ]
  },
  {
   "cell_type": "markdown",
   "id": "035ed5a8",
   "metadata": {},
   "source": [
    "As long as the physical object still exists in the system, Standard QEC protocols are designed to protect against the loss of information. Correcting qubit loss requires additional mechanisms. Without performing a projective measurement on the computational state, non-demolition detection protocols are used to determine if a qubit is present."
   ]
  },
  {
   "cell_type": "markdown",
   "id": "ee9a1fed",
   "metadata": {},
   "source": [
    "### Non-Demolition Detection"
   ]
  },
  {
   "cell_type": "markdown",
   "id": "d86f4abd",
   "metadata": {},
   "source": [
    "Without disturbing its state, Non-Demolition Detection Protocols help detect presence/absence of a qubit. Triggers additional actions or error correction procedures,  after detection of qubit loss, or absence of the qubit as indicated by the non-demolition detection protocol. These additonal actions are steps to replace the lost qubit or trigger the more advanced error correction techniques to mitigate the impact of the loss. "
   ]
  },
  {
   "cell_type": "markdown",
   "id": "98f84b18",
   "metadata": {},
   "source": [
    " ### Standard QEC Protocols for Qubit Loss"
   ]
  },
  {
   "cell_type": "markdown",
   "id": "3c99fe30",
   "metadata": {},
   "source": [
    "As long as the physical qubit exists in the system. Standard QEC protocols protect against the loss of information on a qubit . Various QEC codes can be employed to address different types of errors."
   ]
  },
  {
   "cell_type": "markdown",
   "id": "02bff466",
   "metadata": {},
   "source": [
    "### Standard QEC Protocol examples\n",
    "\n",
    "Bit-Flip Code. Encoding: Error Encodes a logical qubit into three physical qubits using the following mappings: |0⟩L = |000⟩ and |1⟩L = |111⟩. Error Detection: Uses ancillary qubits used for syndrome measurement to detect bit-flip errors. Correction: Flipping the identified qubit to reverse the bit-flip error. \n",
    "\n",
    "Phase-Flip Code. Encoding: Same as bit-flip code Error Detection: Used syndrome measurement for phase-flip error. Correction: Adjusting the phase of the identified qubit to compensate for the phase-flip error"
   ]
  },
  {
   "cell_type": "markdown",
   "id": "b3204755",
   "metadata": {},
   "source": [
    "## Leakage "
   ]
  },
  {
   "cell_type": "markdown",
   "id": "4aba76a3",
   "metadata": {},
   "source": [
    "Sources of Leakage"
   ]
  },
  {
   "cell_type": "markdown",
   "id": "f515477e",
   "metadata": {},
   "source": [
    "1. Internal fluctuations in the system that change the expected qubit dynamics can lead to leakage. This can occur when the qubit is improperly controlled, causing unintended population of additional levels in the system.  \n",
    "2. Imprecise fabrication of the qubit system can also introduce leakage. Even in an otherwise perfect qubit system, fabrication imperfections can result in leakage into unintended levels. Such as, $U |0\\rangle = \\alpha |0\\rangle + \\beta |1\\rangle + \\gamma |2\\rangle$ . Where  $\\gamma |2\\rangle$  represents the contribution of the leaked state $\\vert2\\rangle$ by improper control and , $U\\vert0\\rangle$ represents the resulting state after applying the operator on $\\vert0\\rangle$"
   ]
  },
  {
   "cell_type": "markdown",
   "id": "315e2bb1",
   "metadata": {},
   "source": [
    "### Leakage Correction"
   ]
  },
  {
   "cell_type": "markdown",
   "id": "fdbffd89",
   "metadata": {},
   "source": [
    "First a Non-Demolition, then a Standard QEC protocol. Error syndrome measurements will identify the specific qubits affected by the leakage. Internal fluctuations in the system and corrective operations can be performed to restore the logical qubit state."
   ]
  }
 ],
 "metadata": {
  "kernelspec": {
   "display_name": "Python 3 (ipykernel)",
   "language": "python",
   "name": "python3"
  },
  "language_info": {
   "codemirror_mode": {
    "name": "ipython",
    "version": 3
   },
   "file_extension": ".py",
   "mimetype": "text/x-python",
   "name": "python",
   "nbconvert_exporter": "python",
   "pygments_lexer": "ipython3",
   "version": "3.10.12"
  }
 },
 "nbformat": 4,
 "nbformat_minor": 5
}
