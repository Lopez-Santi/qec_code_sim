{
 "cells": [
  {
   "cell_type": "markdown",
   "id": "d7d0e7ad",
   "metadata": {},
   "source": [
    "# 3 Qubit Error Correcting Code"
   ]
  },
  {
   "cell_type": "code",
   "execution_count": null,
   "id": "1d3d2fe6",
   "metadata": {},
   "outputs": [],
   "source": [
    "import sys\n",
    "sys.path.append('..')   # the `general_qec` package sits above us\n",
    "\n",
    "# Importing math and plotting libraries\n",
    "import numpy as np\n",
    "import random\n",
    "import matplotlib.pyplot as plt\n",
    "\n",
    "# Importing some helpers that we will use throughout\n",
    "from general_qec.qec_helpers import *\n",
    "from general_qec.gates import *\n",
    "from circuit_specific.three_qubit_helpers import *\n",
    "\n",
    "# Importing required libraries for qiskit\n",
    "from qiskit import QuantumRegister, ClassicalRegister, QuantumCircuit, Aer, execute\n",
    "from qiskit.visualization import plot_histogram\n",
    "from qiskit import user_config\n",
    "from qiskit.quantum_info import partial_trace\n",
    "from qiskit.extensions import UnitaryGate\n",
    "\n",
    "# For creating tables:\n",
    "from tabulate import tabulate\n",
    "from prettytable import PrettyTable\n",
    "\n",
    "# Initialize backends simulators to visualize circuits\n",
    "sv_sim = Aer.get_backend('statevector_simulator')\n",
    "qasm_sim = Aer.get_backend('qasm_simulator')\n",
    "\n",
    "# Setting mpl as default drawer\n",
    "%env QISKIT_SETTINGS {}   # -> don't think we need this, just creates an empty \"{}\" file...\n",
    "# I think we need it becuase if not the configs arent able to set to 'mpl' the file isnt empty - Santi\n",
    "user_config.set_config('circuit_drawer', 'mpl')\n"
   ]
  },
  {
   "cell_type": "markdown",
   "id": "fd7dcd30",
   "metadata": {},
   "source": [
    "It is important to note that when we measure the logical states of our qubit systems we will only actually \"see\" one of the states that make up our superposition terms of our qubit system state. This will happen in many notebooks but it is important to keep in mind that it is only for example's sake.\n",
    "\n",
    "For example, if our state is $\\vert\\psi\\rangle = \\alpha\\vert000\\rangle + \\beta\\vert111\\rangle$ we will either measure $\\vert000\\rangle$ or $\\vert111\\rangle$, never both! \n",
    "\n",
    "Another useful example that well come across is when we use ancilla qubits and measure them, collapsing our state. Lets say our state is $\\vert\\psi\\rangle = \\alpha_1\\vert00001\\rangle + \\alpha_1\\vert00010\\rangle + \\beta_2\\vert11101\\rangle + \\beta_2\\vert11110\\rangle$. And lets say we measure our two ancilla qubits at the end (right side of our bit representation). The the states we would get are $\\vert\\psi\\rangle = \\gamma_1\\vert00001\\rangle + \\lambda_1\\vert11101\\rangle$ or $\\vert\\psi\\rangle = \\gamma_2\\vert00010\\rangle + \\lambda_2\\vert11110\\rangle$, but again never both!\n",
    "\n",
    "**In our notebooks, we just display this information to show the current quantum state, although physically this would never be possible.**"
   ]
  },
  {
   "cell_type": "markdown",
   "id": "ffeebb5d",
   "metadata": {},
   "source": [
    "## Contents\n",
    "1. [Introduction](#introduction)\n",
    "2. [Initializing the 3-qubit logical state](#initialize)\n",
    "    1. [CNOT gates for initialization](#cnotinitialize)\n",
    "3. [Encoding and correcting for a single X error](#encode)\n",
    "    1. [CNOT Gates for error detection](#cnotdetection)\n",
    "    2. [How do we detect and correct for errors](#howdetect)\n",
    "    3. [Implementing our Error Correction](#implement)\n",
    "4. [A more physically realistic example](#realistic)\n",
    "    1. [Error Correction](#realisticcorrection)\n",
    "    2. [Fidelity Results](#fidelity)"
   ]
  },
  {
   "cell_type": "markdown",
   "id": "884e4dc0",
   "metadata": {},
   "source": [
    "## 1. Introduction <a id='introduction'></a>\n",
    "\n",
    "In this notebook we will introduce the 3 qubit code and demonstrate how it works as well as create a running example. We will only use numpy to derive the math as well as create the algorithm, while qiskit will only be used to draw the circuits so that we are able to visualize them."
   ]
  },
  {
   "cell_type": "markdown",
   "id": "26e82f5b",
   "metadata": {},
   "source": [
    "Below we show the Pauli Operators which can be used to describe many quantum gates on individual qubits. We will use and reference these throughout. As you can see, a gate on an individual qubit is represented by a 2x2 matrix. Thus when we apply an operation, $U$, on a qubit state say $\\vert\\psi\\rangle$ , which is a 2x1 vector, we will get $U\\vert\\psi\\rangle$ which is still a 2x1 vector state."
   ]
  },
  {
   "cell_type": "code",
   "execution_count": null,
   "id": "0707bfa7",
   "metadata": {},
   "outputs": [],
   "source": [
    "print('Pauli-X: \\n', sigma_x) \n",
    "print('Pauli-Y: \\n', sigma_y)\n",
    "print('Pauli-Z: \\n', sigma_z)\n",
    "print('Pauli-I: \\n', sigma_I)"
   ]
  },
  {
   "cell_type": "markdown",
   "id": "97851567",
   "metadata": {},
   "source": [
    "## 2. Initializing the 3-qubit logical state <a id='initialize'></a>\n",
    "\n",
    "The 3 Qubit code is the most basic algorithm used for quantum error correction. However, it does not actually represent a full quantum code since it cannot simultaneously correct for bit flips and phase flips.\n",
    "In this algorithm a single logical qubit is encoded using 3 physical qubits, and it is able to correct for a single $\\sigma_x$ error (bit flip). This is like having a sort of 'repeater' that has the information encoded multiple times so that if errors do occur in a single physical qubit, we are able to see them and (hopefully) correct for them.\n",
    "\n",
    "In this case we will define our two logical states as $\\vert0\\rangle_L$ and $\\vert1\\rangle_L$ where $\\vert0\\rangle_L = \\vert000\\rangle$ and $\\vert1\\rangle_L = \\vert111\\rangle$.\n",
    "\n",
    "Thus a single qubit state will be represented by $\\vert\\psi\\rangle_L = \\alpha\\vert0\\rangle_L + \\beta\\vert1\\rangle_L$.\n",
    "\n",
    "Below we show the quantum circuit for encoding a single logical qubit. Here we use two ancilla qubits initialized to $\\vert0\\rangle$ and two CNOT gates.\n",
    "\n",
    "CNOT gates can be represented with the matrix below and it performs an operation on two qubits. One being the target qubit and the other the control. Basically, if the control is $\\vert0\\rangle$ then nothing happens, but if the control is $\\vert1\\rangle$ then the target qubit switches states, either to a $\\vert0\\rangle$ or $\\vert1\\rangle$.\n",
    "\n",
    "CNOT gate matrix representation:  \n",
    "\n",
    "$$\\begin{pmatrix}\n",
    "1 & 0 & 0 & 0 \\\\\n",
    "0 & 1 & 0 & 0 \\\\\n",
    "0 & 0 & 0 & 1 \\\\\n",
    "0 & 0 & 1 & 0\n",
    "\\end{pmatrix}$$\n"
   ]
  },
  {
   "cell_type": "code",
   "execution_count": null,
   "id": "0f321052",
   "metadata": {
    "scrolled": true
   },
   "outputs": [],
   "source": [
    "psi = QuantumRegister(1, '|ψ⟩')\n",
    "ancilla = QuantumRegister(2, '|0⟩')\n",
    "qc = QuantumCircuit(psi, ancilla)\n",
    "qc.cnot(0, 1)\n",
    "qc.cnot(1, 2)\n",
    "qc.draw()"
   ]
  },
  {
   "cell_type": "markdown",
   "id": "1d449600",
   "metadata": {},
   "source": [
    "### A. CNOT gates for initialization <a id='cnotinitialize'></a>\n",
    "\n",
    "Mathematically we are able to show what this would look like in terms of matrices and vectors. Our operation will look something like:\n",
    "\n",
    "$$ CNOT_{\\psi, 0} CNOT_{0, 1} \\vert\\psi\\rangle \\vert0\\rangle_0 \\vert0\\rangle_0 = CNOT_{\\psi, 0} CNOT_{0, 1} \\vert\\psi 0_0 0_1\\rangle$$\n",
    "\n",
    "Where $CNOT_{\\psi, 0}$ is the CNOT operation with qubit $\\vert0\\rangle_0$ as the target and qubit $\\vert\\psi\\rangle$ as the control, and $CNOT_{0, 1}$ is the CNOT operation with qubit $\\vert1\\rangle_0$ as teh target and qubit $\\vert0\\rangle_0$ as the control. $\\vert\\psi\\rangle$, $\\vert0\\rangle_0$, and $\\vert0\\rangle_1$ are the initial states for the three qubits respectively.\n",
    "\n",
    "Operations on multiple qubits: https://learn.microsoft.com/en-us/azure/quantum/concepts-multiple-qubits\n",
    "\n",
    "In order to achieve this initialization we need to derive two operators (the CNOT gates). Although they are the same gate, the operators themselves will look slightly different due to the fact that our qubit $\\vert\\psi\\rangle$ is acting on qubit $\\vert0\\rangle_0$, and $\\vert0\\rangle_0$ is acting on qubit $\\vert0\\rangle_1$. We know that the dimensions of our operations $CNOT_{\\psi, 0}$ and  $CNOT_{0, 1}$ should be 8 x 8 matrices. This is due to the fact that $\\vert\\psi 0_0 0_1\\rangle$ is an 8 x 1 vector and we want to arrive at a vector of the same dimension in the end.\n",
    "\n",
    "Thus for the first CNOT on $\\vert0\\rangle_0$ we know that the operation should not affect qubit $\\vert0\\rangle_1$. Therefore we know that $CNOT_{\\psi, 0} = CNOT \\otimes I_2$ where CNOT is our usual CNOT operation between $\\vert\\psi\\rangle$ and $\\vert0\\rangle_0$ defined above and $I_2$ is the 2 x 2 identity matrix for $\\vert0\\rangle_1$. Also $CNOT_{0, 1} = I_2 \\otimes CNOT$ where CNOT is our usual CNOT operation between $\\vert0\\rangle_0$ and $\\vert0\\rangle_1$ defined above and $I_2$ is the 2 x 2 identity matrix for $\\vert\\psi\\rangle_1$. Thus \n",
    "\n",
    "$$CNOT_{\\psi, 0} = \\begin{pmatrix}\n",
    "1 & 0 & 0 & 0 & 0 & 0 & 0 & 0 \\\\\n",
    "0 & 1 & 0 & 0 & 0 & 0 & 0 & 0 \\\\\n",
    "0 & 0 & 1 & 0 & 0 & 0 & 0 & 0 \\\\\n",
    "0 & 0 & 0 & 1 & 0 & 0 & 0 & 0 \\\\\n",
    "0 & 0 & 0 & 0 & 0 & 0 & 1 & 0 \\\\\n",
    "0 & 0 & 0 & 0 & 0 & 0 & 0 & 1 \\\\\n",
    "0 & 0 & 0 & 0 & 1 & 0 & 0 & 0 \\\\\n",
    "0 & 0 & 0 & 0 & 0 & 1 & 0 & 0\n",
    "\\end{pmatrix},\\quad and \\quad\n",
    "CNOT_{0, 1} = \\begin{pmatrix}\n",
    "1 & 0 & 0 & 0 & 0 & 0 & 0 & 0 \\\\\n",
    "0 & 1 & 0 & 0 & 0 & 0 & 0 & 0 \\\\\n",
    "0 & 0 & 0 & 1 & 0 & 0 & 0 & 0 \\\\\n",
    "0 & 0 & 1 & 0 & 0 & 0 & 0 & 0 \\\\\n",
    "0 & 0 & 0 & 0 & 1 & 0 & 0 & 0 \\\\\n",
    "0 & 0 & 0 & 0 & 0 & 1 & 0 & 0 \\\\\n",
    "0 & 0 & 0 & 0 & 0 & 0 & 0 & 1 \\\\\n",
    "0 & 0 & 0 & 0 & 0 & 0 & 1 & 0\n",
    "\\end{pmatrix}$$\n",
    "\n",
    "Below is a function that implements the 3-qubit code shown in the circuit above for initializing the logical state of the system."
   ]
  },
  {
   "cell_type": "code",
   "execution_count": null,
   "id": "aa524d45",
   "metadata": {
    "scrolled": false
   },
   "outputs": [],
   "source": [
    "psi = one\n",
    "final_logical_state = three_qubit_initialize_logical_state(psi)\n",
    "print('Psi State: ', psi)\n",
    "print('Final Logical State:')\n",
    "print_state_info(final_logical_state, 3)"
   ]
  },
  {
   "cell_type": "markdown",
   "id": "badd252f",
   "metadata": {},
   "source": [
    "## 3. Encoding and correcting for a single X error <a id='encode'></a>\n",
    "\n",
    "One thing to note about the circuit above is that three bit flips are required to encode a single qubit. This number is defined as the distance between two codeword states and is given the variable d. With this we are able to calculate the number of errors that can be corrected:\n",
    "\n",
    "$$ t = \\left\\lfloor \\frac{(d-1)}{2} \\right\\rfloor$$\n",
    "\n",
    "In the case of the 3 qubit code, we can see that $d = 3$ and thus $t = 1$.\n",
    "\n",
    "Now in order to actually be able to correct for errors we require two more ancilla qubits to obtain information about possible errors (syndrome information) without directly measuring the exact state of any of the qubits in the logical qubit.\n",
    "Our new circuit will now look like this:"
   ]
  },
  {
   "cell_type": "code",
   "execution_count": null,
   "id": "09f7b024",
   "metadata": {},
   "outputs": [],
   "source": [
    "psi = QuantumRegister(1, '|ψ⟩')\n",
    "ancilla = QuantumRegister(2, '|0⟩')\n",
    "syndrome_ancilla = QuantumRegister(2, 'syndrome |0⟩')\n",
    "classical_bits = ClassicalRegister(2, 'classical_measurement')\n",
    "qc = QuantumCircuit(psi, ancilla, syndrome_ancilla, classical_bits)\n",
    "qc.cnot(0, 1)\n",
    "qc.cnot(1, 2)\n",
    "qc.barrier(0,1,2) # If a bit flip error occurs here, the code can correct it.\n",
    "qc.cnot(0, 3)\n",
    "qc.cnot(1, 3)\n",
    "qc.cnot(0, 4)\n",
    "qc.cnot(2, 4)\n",
    "qc.measure(syndrome_ancilla, classical_bits)\n",
    "qc.barrier()\n",
    "qc.draw()"
   ]
  },
  {
   "cell_type": "markdown",
   "id": "a6e51dd1",
   "metadata": {},
   "source": [
    "The first dashed line represents the bit flip (X) error that occurs to any of the first 3 data qubits. After that we apply 4 CNOT gates to obtain the error information. Then we classically measure the syndrome qubits to see if an error occured and where the error is. \n",
    "\n",
    "In this example we assume that the error only occurs where the dashed line is and all other gate operations are 'perfect'. Additionally we assume that only a single bit flip error occurs.\n",
    "\n",
    "Now we will simulate what would happen if a single X bit flip error occurs at a random location after we have initialized the 3 qubit logical state. We can mathematically represent each errror at a location as the following:\n",
    "\n",
    "* If the error occurs at the 0th qubit ($\\vert\\psi\\rangle$): $(X \\otimes I_2 \\otimes I_2)\\vert\\psi q_1 q_2 \\rangle$\n",
    "* If the error occurs at the 1st qubit ($\\vert q_1\\rangle$): $(I_2 \\otimes X \\otimes I_2)\\vert\\psi q_1 q_2 \\rangle$\n",
    "* If the error occurs at the 2nd qubit ($\\vert q_2\\rangle$): $(I_2 \\otimes I_2 \\otimes X)\\vert\\psi q_1 q_2 \\rangle$\n",
    "\n",
    "Where X is the Pauli-x ($\\sigma_x$) operator"
   ]
  },
  {
   "cell_type": "code",
   "execution_count": null,
   "id": "c37554f1",
   "metadata": {},
   "outputs": [],
   "source": [
    "# Print out the errored logical state and the index qubit which the error occured (using the final state from before)\n",
    "state, qubit_errored = three_qubit_random_qubit_x_error(final_logical_state)\n",
    "print('Logical State without the random X error: ')\n",
    "print_state_info(final_logical_state, 3)\n",
    "print('Logical Sate with the random X error:    ')\n",
    "print_state_info(state, 3)\n",
    "print('The Error occured at qubit: ', qubit_errored)"
   ]
  },
  {
   "cell_type": "markdown",
   "id": "f24b7644",
   "metadata": {},
   "source": [
    "### A. CNOT Gates for error detection <a id='cnotdetection'></a>\n",
    "\n",
    "Next we need to be able to find where the qubit errored without directly knowing where it errored (kind of counter intuitive). Since this is a simulation we are able to print out what index the qubit actaully errored at to check our work, but in reality we won't know. So we should have a way to determine this. That is where our syndrome ancilla qubits come into play. They will tell us where our error occured!\n",
    "\n",
    "Below we derive each CNOT gate represented in the ciruit above as a 32 x 32 matrix. Since the matrix is too large to show, we can follow a different process to deriving the CNOT gates than we did earlier for the logical state initialization. \n",
    "\n",
    "We will be using the following derivation method for a CNOT gate with one qubit in between the control and target qubits (thus the qubits that the gate acts on are non-adjacent). For this CNOT gate it is not so simple, like our previous derivation for a 3-qubit CNOT since there is no known kronecker product that would lead to the transformation needed. Thus we can derive it by looking at what happens to the logical states of the qubit when we apply this gate. See [StackExchange](https://quantumcomputing.stackexchange.com/questions/4252/how-to-derive-the-cnot-matrix-for-a-3-qubit-system-where-the-control-target-qu/4254#4254) for more.\n",
    "\n",
    "$$ CNOT\\vert000\\rangle \\to \\vert000\\rangle = [1 0 0 0 0 0 0 0 ]^T\\\\ CNOT\\vert001\\rangle \\to \\vert001\\rangle = [0 1 0 0 0 0 0 0 ]^T \\\\\n",
    "CNOT\\vert010\\rangle \\to \\vert010\\rangle = [0 0 1 0 0 0 0 0 ]^T\\\\ CNOT\\vert011\\rangle \\to \\vert011\\rangle = [0 0 0 1 0 0 0 0 ]^T \\\\\n",
    "CNOT\\vert100\\rangle \\to \\vert101\\rangle = [0 0 0 0 0 1 0 0 ]^T\\\\ CNOT\\vert101\\rangle \\to \\vert100\\rangle = [0 0 0 0 1 0 0 0 ]^T \\\\\n",
    "CNOT\\vert110\\rangle \\to \\vert111\\rangle = [0 0 0 0 0 0 0 1 ]^T\\\\ CNOT\\vert111\\rangle \\to \\vert110\\rangle = [0 0 0 0 0 0 1 0 ]^T $$\n",
    "\n",
    "Now if you look closely when we put these together as the collumns of out matrix we get:\n",
    "\n",
    "$$ CNOT_{\\psi, 1} = \\begin{pmatrix}\n",
    "1 & 0 & 0 & 0 & 0 & 0 & 0 & 0 \\\\\n",
    "0 & 1 & 0 & 0 & 0 & 0 & 0 & 0 \\\\\n",
    "0 & 0 & 1 & 0 & 0 & 0 & 0 & 0 \\\\\n",
    "0 & 0 & 0 & 1 & 0 & 0 & 0 & 0 \\\\\n",
    "0 & 0 & 0 & 0 & 0 & 1 & 0 & 0 \\\\\n",
    "0 & 0 & 0 & 0 & 1 & 0 & 0 & 0 \\\\\n",
    "0 & 0 & 0 & 0 & 0 & 0 & 0 & 1 \\\\\n",
    "0 & 0 & 0 & 0 & 0 & 0 & 1 & 0\n",
    "\\end{pmatrix}$$\n",
    "\n",
    "Which is the matrix representation for the CNOT gate when our 2 qubits are not adjacent in the 3-qubit system."
   ]
  },
  {
   "cell_type": "markdown",
   "id": "2701912c",
   "metadata": {},
   "source": [
    "Instead of using the tedious method from above everytime we want to find a CNOT gate between 2 non-adjacent qubits, the following function was created to make a matrix representation of a non-adjacent CNOT gate.\n",
    "\n",
    "Below I construct a function to create a non-adjacent CNOT gate for any number of qubits in between the control and target. The reference I use is Proposition 8 of this document:\n",
    "https://hal-normandie-univ.archives-ouvertes.fr/hal-02948598/document\n",
    "\n",
    "Where we let $ i_1, i_2, ..., i_p \\space (p - 1 \\ge 2) $ be distinct integers such that\n",
    "\n",
    "$$ CNOT_{i_1, i_p} = \\biggl(CNOT_{i_1, i_2}CNOT_{i_2, i_3} . . . CNOT_{i_{p-2}, i_{p-1}}CNOT_{i_{p-1}, i_p}CNOT_{i_{p-2}, i_{p-1}} . . . CNOT_{i_2, i_3}\\biggr)^2 $$\n",
    "\n",
    "This is simply used to construct the non-adjacent CNOT gate matrix, thus we do not take into account the individual gate errors that go into making the full gate. However, in the future we will do this."
   ]
  },
  {
   "cell_type": "code",
   "execution_count": null,
   "id": "44ac1397",
   "metadata": {
    "scrolled": true
   },
   "outputs": [],
   "source": [
    "print(non_adj_CNOT(0, 2, 3))"
   ]
  },
  {
   "cell_type": "markdown",
   "id": "d391d1c9",
   "metadata": {},
   "source": [
    "Below is the code to put together the 4 CNOT gates after initializing the 3 qubit logical state and then applying a random error. Note that the error function has 4 options, error on qubit 0, error on qubit 1, error on qubit 2, or no error at all."
   ]
  },
  {
   "cell_type": "code",
   "execution_count": null,
   "id": "2c997172",
   "metadata": {},
   "outputs": [],
   "source": [
    "# Code implementing the Syndrome Ancilla Qubits to check where the error occured\n",
    "initial_psi = one\n",
    "\n",
    "# Initialize our system and apply an X error\n",
    "initial_state = three_qubit_initialize_logical_state(initial_psi) # Initialize our 3 qubit logical state\n",
    "error_state = three_qubit_random_qubit_x_error(initial_state)[0] # Apply a random X error to one of our 3 qubits\n",
    "\n",
    "# Find the vector state representation after applying the ancilla qubits\n",
    "final_state = three_qubit_apply_ancillas(error_state)\n",
    "print(final_state.astype(int))"
   ]
  },
  {
   "cell_type": "markdown",
   "id": "fc66bfb0",
   "metadata": {},
   "source": [
    "### B. How do we detect and correct for errors <a id='howdetect'></a>\n",
    "\n",
    "We can now construct a table with the possible results of bit flip error which can occur and how we will detect them using the two syndrome ancilla qubits. For each different error, the syndrome ancillas are flipped to a unique state which we can then measure and apply a correction. The $\\sigma_x$ or bit flip correction would be classically controlled depending on the syndrome ancilla."
   ]
  },
  {
   "cell_type": "code",
   "execution_count": null,
   "id": "de0ebd5a",
   "metadata": {
    "scrolled": true
   },
   "outputs": [],
   "source": [
    "error_table = PrettyTable([\"Error Location\", \"Final State, |data⟩|ancilla⟩\"])\n",
    " \n",
    "error_table.add_row([\"No Error\", \"alpha|000⟩|00⟩ + beta|111⟩|00⟩\"])\n",
    "error_table.add_row([\"Qubit 0 (|ψ⟩)\", \"alpha |100⟩|11⟩ + beta|011⟩|11⟩\"])\n",
    "error_table.add_row([\"Qubit 1 (|0⟩_0)\", \"alpha |010⟩|10⟩ + beta|101⟩|10⟩\"])\n",
    "error_table.add_row([\"Qubit 2 (|0⟩_1)\", \"alpha |001⟩|01⟩ + beta|110⟩|01⟩\"])\n",
    " \n",
    "print(error_table)"
   ]
  },
  {
   "cell_type": "markdown",
   "id": "4f7f0764",
   "metadata": {},
   "source": [
    "However it is important to note that this 3 qubit code can only correct a maximum of one bit flip error on a single qubit. Anything else will cause ambiguity of syndrome results. This can be seen in the table below where we see multiple errors occuring and the assumed error that our ancilla tell us."
   ]
  },
  {
   "cell_type": "code",
   "execution_count": null,
   "id": "2b1e17bc",
   "metadata": {},
   "outputs": [],
   "source": [
    "multi_error_table = PrettyTable([\"Error Location\", \"Final State, |data⟩|ancilla⟩\", \"Assumed Error\"])\n",
    " \n",
    "multi_error_table.add_row([\"Qubit 0 and 1\", \"alpha|110⟩|01⟩ + beta|001⟩|01⟩\", \"sigma_x on Qubit 2\"])\n",
    "multi_error_table.add_row([\"Qubit 1 and 2\", \"alpha |011⟩|11⟩ + beta|100⟩|11⟩\", \"sigma_x on Qubit 0\"])\n",
    "multi_error_table.add_row([\"Qubit 0 and 2\", \"alpha |101⟩|10⟩ + beta|010⟩|10⟩\", \"sigma_x on Qubit 1\"])\n",
    "multi_error_table.add_row([\"Qubit 0, 1, and 2\", \"alpha |111⟩|00⟩ + beta|000⟩|00⟩\", \"no error\"])\n",
    "\n",
    "print('We can see that with multiple errors occuring at different qubits we would not be able to tell what is going on.')\n",
    "print(multi_error_table)"
   ]
  },
  {
   "cell_type": "markdown",
   "id": "cc08f78f",
   "metadata": {},
   "source": [
    "Thus from above we can see that our tensored vectors will look different depending on where the error is."
   ]
  },
  {
   "cell_type": "code",
   "execution_count": null,
   "id": "9f475c9c",
   "metadata": {},
   "outputs": [],
   "source": [
    "# When the Initial Logical State is |0>\n",
    "a = 0\n",
    "b = 1\n",
    "print('When the Initial Logical State is |0>')\n",
    "print('No Error: ', a * np.kron(zero, np.kron(zero, np.kron(zero, np.kron(zero, zero)))).astype(int) +\n",
    "     b * np.kron(one, np.kron(one, np.kron(one, np.kron(zero, zero)))).astype(int))\n",
    "print('Error on 0th qubit: ', a * np.kron(one, np.kron(zero, np.kron(zero, np.kron(one, one)))).astype(int) +\n",
    "     b * np.kron(zero, np.kron(one, np.kron(one, np.kron(one, one)))).astype(int))\n",
    "print('Error on 1st qubit: ', a * np.kron(zero, np.kron(one, np.kron(zero, np.kron(one, zero)))).astype(int) +\n",
    "     b * np.kron(one, np.kron(zero, np.kron(one, np.kron(one, zero)))).astype(int))\n",
    "print('Error on 2nd qubit: ', a * np.kron(zero, np.kron(zero, np.kron(one, np.kron(zero, one)))).astype(int) +\n",
    "     b * np.kron(one, np.kron(one, np.kron(zero, np.kron(zero, one)))).astype(int))\n",
    "# When the Initial Logical State is |1> \n",
    "a = 1\n",
    "b = 0\n",
    "print('\\nWhen the Initial Logical State is |1>')\n",
    "print('No Error: ', a * np.kron(zero, np.kron(zero, np.kron(zero, np.kron(zero, zero)))).astype(int) +\n",
    "     b * np.kron(one, np.kron(one, np.kron(one, np.kron(zero, zero)))).astype(int))\n",
    "print('Error on 0th qubit: ', a * np.kron(one, np.kron(zero, np.kron(zero, np.kron(one, one)))).astype(int) +\n",
    "     b * np.kron(zero, np.kron(one, np.kron(one, np.kron(one, one)))).astype(int))\n",
    "print('Error on 1st qubit: ', a * np.kron(zero, np.kron(one, np.kron(zero, np.kron(one, zero)))).astype(int) +\n",
    "     b * np.kron(one, np.kron(zero, np.kron(one, np.kron(one, zero)))).astype(int))\n",
    "print('Error on 2nd qubit: ', a * np.kron(zero, np.kron(zero, np.kron(one, np.kron(zero, one)))).astype(int) +\n",
    "     b * np.kron(one, np.kron(one, np.kron(zero, np.kron(zero, one)))).astype(int))"
   ]
  },
  {
   "cell_type": "markdown",
   "id": "f8cc25b5",
   "metadata": {},
   "source": [
    "### C. Implementing our Error Correction <a id='implement'></a>\n",
    "\n",
    "The function below was made to be able to detect where the error occurs:"
   ]
  },
  {
   "cell_type": "code",
   "execution_count": null,
   "id": "54a38c4d",
   "metadata": {},
   "outputs": [],
   "source": [
    "three_qubit_detect_error_location_from_vector(final_state)"
   ]
  },
  {
   "cell_type": "markdown",
   "id": "3d827ab2",
   "metadata": {},
   "source": [
    "### Now to correct the error:"
   ]
  },
  {
   "cell_type": "code",
   "execution_count": null,
   "id": "6abed3bb",
   "metadata": {},
   "outputs": [],
   "source": [
    "print(three_qubit_correct_x_error(final_state).astype(int))"
   ]
  },
  {
   "cell_type": "markdown",
   "id": "5dc7e863",
   "metadata": {},
   "source": [
    "Below we take the qubit state (32 element array) and take only the first 3 qubits to make sure that the correction worked. This is the full error correction procedure."
   ]
  },
  {
   "cell_type": "code",
   "execution_count": null,
   "id": "12ffde06",
   "metadata": {
    "scrolled": true
   },
   "outputs": [],
   "source": [
    "# Our initial single qubit state (Psi) # |0> or |1>\n",
    "initial_psi = one\n",
    "\n",
    "# Initialize our 3 qubit logical state and apply an X error\n",
    "initial_state = three_qubit_initialize_logical_state(initial_psi) # Initialize our 3 qubit logical state\n",
    "error_state = three_qubit_random_qubit_x_error(initial_state)[0] # Apply a random X error to one of our 3 qubits\n",
    "# Now we can apply the CNOT gates to combine our 3 qubit logical state with the 2 syndrome ancillas\n",
    "full_error_state = three_qubit_apply_ancillas(error_state)\n",
    "\n",
    "\n",
    "# Next we correct the final state of our system\n",
    "corrected_state = three_qubit_correct_x_error(full_error_state)\n",
    "print('Error State:     ', full_error_state.astype(int))\n",
    "print('Corrected State: ', corrected_state.astype(int))\n",
    "\n",
    "# Output the 3 qubit logical state with the error\n",
    "print('Error logical state:     ', vector_state_to_bit_state(full_error_state, 3)[0][0])\n",
    "# Output our corrected 3 qubitlogical state\n",
    "print('Corrected logical state: ',vector_state_to_bit_state(corrected_state, 3)[0][0])"
   ]
  },
  {
   "cell_type": "markdown",
   "id": "79a2d904",
   "metadata": {},
   "source": [
    "Running our 3 qubit code again but with our initial state being some $\\alpha\\vert0\\rangle_L + \\beta\\vert1\\rangle_L$"
   ]
  },
  {
   "cell_type": "code",
   "execution_count": null,
   "id": "a6193d58",
   "metadata": {},
   "outputs": [],
   "source": [
    "# Our initial single qubit state (Psi) # alpha |0>  + beta |1>\n",
    "initial_psi = 1/np.sqrt(2)* np.array([1, 1]) \n",
    "# initial_psi = np.array([0, 1])\n",
    "\n",
    "# Initialize our 3 qubit logical state and apply an X error\n",
    "initial_state = three_qubit_initialize_logical_state(initial_psi) # Initialize our 3 qubit logical state\n",
    "error_state = three_qubit_random_qubit_x_error(initial_state)[0] # Apply a random X error to one of our 3 qubits\n",
    "# Now we can apply the CNOT gates to combine our 3 qubit logical state with the 2 syndrome ancillas\n",
    "full_error_state = three_qubit_apply_ancillas(error_state)\n",
    "\n",
    "\n",
    "# Next we correct the final state of our system\n",
    "full_corrected_state = three_qubit_correct_x_error(full_error_state)\n",
    "\n",
    "\n",
    "# Output the 5 qubit logical state with the error\n",
    "error_logical_bits, error_index, error_state = vector_state_to_bit_state(full_error_state, 5)\n",
    "\n",
    "three_qubit_info(error_state, full_corrected_state)"
   ]
  },
  {
   "cell_type": "markdown",
   "id": "fa9ba04e",
   "metadata": {},
   "source": [
    "## 4. A more physically realistic example <a id='realistic'></a>\n",
    "\n",
    "Next we will consider a different and more physically realistic example by assuming that the errors acting on the qubits are coherent rotations in the form $U = e^{i\\epsilon\\theta_x}$ on each qubit and $\\epsilon << 1$ will be assumed. The coherent rotations are used in order to be able to represent the state as a state vector rather than having to move to the density matrix.\n",
    "\n",
    "Lets assume each qubit experiences the same error: $\\vert\\psi\\rangle_E = E\\vert\\psi\\rangle$ , where \n",
    "\n",
    "$$ E = U^{\\otimes3} = (cos(\\epsilon)\\sigma_I + isin(\\epsilon)\\sigma_x)^{\\otimes3}$$ $$= c_0\\sigma_I\\sigma_I\\sigma_I + c_1(\\sigma_x\\sigma_I\\sigma_I + \\sigma_I\\sigma_x\\sigma_I + \\sigma_I\\sigma_I\\sigma_x) + c_2(\\sigma_x\\sigma_x\\sigma_I + \\sigma_I\\sigma_x\\sigma_x + \\sigma_x\\sigma_I\\sigma_x) + c_3\\sigma_x\\sigma_x\\sigma_x$$\n",
    "\n",
    "Where $$ c_0 = cos^3(\\epsilon), \\quad c_1 = icos^2(\\epsilon)sin(\\epsilon), \\quad c_2 = -cos(\\epsilon)sin^2(\\epsilon), \\quad c_3 = -isin^3(\\epsilon)$$\n",
    "\n",
    "Now we can run our QEC using the 2 ancilla qubits: \n",
    "\n",
    "$$ U_{QEC}(E\\vert\\psi\\rangle_L\\vert00\\rangle) = U_{QEC}\\biggl(\\biggl( c_0\\sigma_I\\sigma_I\\sigma_I + c_1 (\\sigma_x\\sigma_I\\sigma_I + \\sigma_I\\sigma_x\\sigma_I + \\sigma_I\\sigma_I\\sigma_x) + c_2 (\\sigma_x\\sigma_x\\sigma_I + \\sigma_I\\sigma_x\\sigma_x + \\sigma_x\\sigma_I\\sigma_x) + c_3\\sigma_x\\sigma_x\\sigma_x\\biggr)\\vert00\\rangle\\biggr) $$\n",
    "$$ = c_0\\sigma_I\\sigma_I\\sigma_I\\vert00\\rangle + c_1\\sigma_x\\sigma_I\\sigma_I\\vert11\\rangle + c_1\\sigma_I\\sigma_x\\sigma_I\\vert10\\rangle + c_1\\sigma_I\\sigma_I\\sigma_x\\vert01\\rangle + c_2\\sigma_x\\sigma_x\\sigma_I\\vert10\\rangle + c_2\\sigma_I\\sigma_x\\sigma_x\\vert11\\rangle + c_2\\sigma_x\\sigma_I\\sigma_x\\vert01\\rangle + c_3\\sigma_x\\sigma_x\\sigma_x\\vert00\\rangle $$\n",
    "\n",
    "Next we measure the ancilla block and apply the correction. As we can see in the table below, after each correction we have a superposition of a logically correct state and a logically flipped state. "
   ]
  },
  {
   "cell_type": "code",
   "execution_count": null,
   "id": "20bbd466",
   "metadata": {
    "scrolled": true
   },
   "outputs": [],
   "source": [
    "ancilla_measurement_table = PrettyTable([\"Ancilla Measurement\", \"Corrected State\"])\n",
    " \n",
    "ancilla_measurement_table.add_row([\"|00⟩\", \"c_0|ψ⟩_L + c_3 σ_x σ_x σ_x |ψ⟩_L \"])\n",
    "ancilla_measurement_table.add_row([\"|11⟩\", \"c_1|ψ⟩_L + c_2 σ_x σ_x σ_x |ψ⟩_L\"])\n",
    "ancilla_measurement_table.add_row([\"|10⟩\", \"c_1|ψ⟩_L + c_2 σ_x σ_x σ_x |ψ⟩_L\"])\n",
    "ancilla_measurement_table.add_row([\"|01⟩\", \"c_1|ψ⟩_L + c_2 σ_x σ_x σ_x |ψ⟩_L\"])\n",
    " \n",
    "print(ancilla_measurement_table)"
   ]
  },
  {
   "cell_type": "markdown",
   "id": "24455609",
   "metadata": {},
   "source": [
    "### Calculating the fidelity associated with each term:\n",
    "\n",
    "Fidelity without any error correction:\n",
    "\n",
    "$$F_{UNENCODED} = \\vert\\langle\\psi\\vert U \\vert\\psi\\rangle\\vert^2 = \\vert\\biggl(\\alpha\\langle0_L\\vert + \\beta\\langle1\\vert_L \\biggr)\\biggl((cos(\\epsilon) + isin(\\epsilon)\\alpha\\vert0\\rangle_L + (cos(\\epsilon) + isin(\\epsilon)\\beta\\vert1\\rangle_L\\biggr)\\vert^2 $$ $$= \\vert\\alpha^2(cos(\\epsilon) + isin(\\epsilon)) + \\beta^2(cos(\\epsilon) + isin(\\epsilon)\\vert^2 = \\vert(\\alpha^2 + \\beta^2)(cos(\\epsilon) + isin(\\epsilon))\\vert^2 = \\biggl(\\vert\\alpha\\vert^2 + \\vert\\beta\\vert^2\\biggr)^2cos^2(\\epsilon) + \\biggl(\\alpha\\beta^* + \\alpha^*\\beta\\biggr)^2sin^2(\\epsilon)$$\n",
    "\n",
    "Now lets let $\\vert\\psi\\rangle_L = \\vert0\\rangle_L$ or $\\vert1\\rangle_L$, lets say $\\vert0\\rangle_L$ in this case. so now we have either $\\alpha = 1$ and $\\beta = 0$ or $\\alpha = 0$ and $\\beta = 1$ (the 2nd term above is 0 and the first goes to $cos^2(\\epsilon)$. Thus using small angle approximation $(\\epsilon<<1)$ we can see that $ F_{UNENCODED} = cos^2(\\epsilon) \\approx 1-\\epsilon^2$\n",
    "\n",
    "Fidelity after error correction:\n",
    "\n",
    "$$ F_{NO\\space ERROR\\space DETECTED} = \\frac{\\vert Desired\\space State\\vert^2}{\\vert Desired\\space State\\vert^2 + \\vert Error\\space State\\vert^2} = \\frac{\\vert c_0 \\vert^2}{\\vert c_0\\vert^2 + \\vert c_3\\vert^2} = \\frac{cos^6(\\epsilon)}{cos^6(\\epsilon) + sin^6(\\epsilon)} \\approx 1 - \\epsilon^6$$\n",
    "\n",
    "\n",
    "$$ F_{ERROR\\space DETECTED} = \\frac{\\vert Desired\\space State\\vert^2}{\\vert Desired\\space State\\vert^2 + \\vert Error\\space State\\vert^2} = \\frac{\\vert c_1 \\vert^2}{\\vert c_1\\vert^2 + \\vert c_2\\vert^2} = \\frac{cos^4(\\epsilon)sin^2(\\epsilon)}{cos^4(\\epsilon)sin^2(\\epsilon) + cos^2(\\epsilon)sin^4(\\epsilon)} \\approx 1 - \\epsilon^2$$\n",
    "\n",
    "\n",
    "As we can see above, the fidelity when no error is detected the error state is surpressed from $O(\\epsilon^2)$ to $O(\\epsilon^6)$ and fidelity increases, while when detecting an error we can see that the error state remains the same and so does our fidelity compared to when we do not encode the system using syndrome ancilla.\n",
    "Since $\\epsilon^2 << 1$ we can see that most of the time we will not detect an error, thus our overall fidelity will improve.\n",
    "It is important to note that we will never be able to achieve 100% fidelity simply because the final logical state will always contain some superposition (mixture) of the desired state and error state when dealing with coherent (incoherent) errors.\n",
    "\n",
    "We can also calculate the probability of having each of these outcomes occur. This can be done by using the magnitude of the resulting logical states after the round of error correction since we know that the probability of being in a certain state say $\\vert0\\rangle$ is $P(\\vert0\\rangle) = \\alpha^2$ and for $\\vert1\\rangle$ is $P(\\vert1\\rangle) = \\beta^2$ when $\\vert\\psi\\rangle = \\alpha\\vert0\\rangle + \\beta\\vert1\\rangle$.\n",
    "\n",
    "Thus for no error being detected we have a probability of\n",
    "\n",
    "$$ P_{NO\\space ERROR\\space DETECTED} = \\vert cos^3(\\epsilon) - isin^3(\\epsilon)\\vert^2 = cos^6(\\epsilon) + sin^6(\\epsilon) \\approx 1 - 3\\epsilon^2 + O(\\epsilon^4)$$\n",
    "\n",
    "And our probability of detecting an error is \n",
    "\n",
    "$$ P_{ERROR\\space DETECTED} = 3 \\vert icos^2(\\epsilon)sin(\\epsilon) - cos(\\epsilon)sin^2(\\epsilon)\\vert^2 = 3 ( cos^4(\\epsilon)sin^2(\\epsilon) + cos^2(\\epsilon)sin^4(\\epsilon)) \\approx 3\\epsilon^2 + O(\\epsilon^4)$$"
   ]
  },
  {
   "cell_type": "markdown",
   "id": "9d1f44f2",
   "metadata": {},
   "source": [
    "### A. Error Correction <a id='realisticcorrection'></a>\n",
    "\n",
    "Below we implement this error model to the 3 qubit code to be able to see how our error correction works now that we have a more realistic error."
   ]
  },
  {
   "cell_type": "markdown",
   "id": "c867bcbf",
   "metadata": {},
   "source": [
    "Applying a small epsilon error to each qubit and applying our usual quantum error correction to our system:"
   ]
  },
  {
   "cell_type": "code",
   "execution_count": null,
   "id": "febc3d41",
   "metadata": {
    "scrolled": true
   },
   "outputs": [],
   "source": [
    "print(\"Initialize our 3 qubit logical state.\")\n",
    "psi = one\n",
    "\n",
    "initial_state = three_qubit_initialize_logical_state(psi)\n",
    "epsilon = np.deg2rad(1)\n",
    "\n",
    "print(\"\\nApply a coherent error to each of our 3 qubits.\")\n",
    "error_state, E, U = three_qubit_coherent_x_rotation_error(initial_state, epsilon, 3)\n",
    "\n",
    "print(\"\\nNow we can apply the CNOT gates to combine our 3 qubit logical state with the 2 syndrome ancillas\")\n",
    "full_error_state = three_qubit_apply_ancillas(error_state)\n",
    "\n",
    "print(\"\\nFind the error states in bit form for plotting later on:\")\n",
    "error_logical_bits, error_index, error_state = vector_state_to_bit_state(full_error_state, 5)\n",
    "corrected_states, corrected_bit_states = separate_and_correct_multiple_errors(error_state, 5)\n",
    "\n",
    "print(\"\\nFor outputting purposes we only need the non zero values, and since the bits are in the same\")\n",
    "print(\"order as the arrays, we can just find the nonzero values in each correct vector to know the\")\n",
    "print(\"magnitude of that state.\")\n",
    "error_state = error_state[error_state != 0]\n",
    "corrected_states = corrected_states[corrected_states != 0]\n"
   ]
  },
  {
   "cell_type": "code",
   "execution_count": null,
   "id": "2555e521",
   "metadata": {},
   "outputs": [],
   "source": [
    "error_state"
   ]
  },
  {
   "cell_type": "code",
   "execution_count": null,
   "id": "ebb8a7bf",
   "metadata": {},
   "outputs": [],
   "source": [
    "corrected_states"
   ]
  },
  {
   "cell_type": "markdown",
   "id": "f2288606",
   "metadata": {},
   "source": [
    "### B. Fidelity Results <a id='fidelity'></a>\n",
    "\n",
    "Below we plot the probabilites of being in different states after an error has occured with no correction and after our quantum error correction protocols. We are able to see 2 key ideas from these plots:\n",
    "\n",
    "1. The fidelity of detecting no error changes between applying quantum error correction protocols or not. We can see the states ($\\vert\\psi\\rangle_L \\vert00\\rangle$ and $\\sigma_X\\sigma_X\\sigma_X\\vert\\psi\\rangle_L \\vert00\\rangle$) have the same probabilites, but if we calculate the fidelity we will see that there is a difference in the expectation value for the unencoded state.\n",
    "2. The fidelity of detecting an error does change between applying quantum error correction protocols or not. We can see that when not applying error correction we get the six states ($\\sigma_x\\sigma_I\\sigma_I\\vert11\\rangle, \\space\\sigma_I\\sigma_x\\sigma_I\\vert10\\rangle, \\space\\sigma_I\\sigma_I\\sigma_x\\vert01\\rangle, \\space\\sigma_x\\sigma_x\\sigma_I\\vert10\\rangle, \\space\\sigma_I\\sigma_x\\sigma_x\\vert11\\rangle, and \\space\\sigma_x\\sigma_I\\sigma_x\\vert01\\rangle $) which all contain errors at some probabilty. However, when we apply our error correction, the states from above will be corrected, however the states will still have some probability they will be correct but at another they will be incorrect.\n",
    "\n",
    "These are the reasons we choose to still implement QEC even when we have multiple errors on our system. Our overall fidelity will still increase, due to the fidelity increase when we do not detect an error."
   ]
  },
  {
   "cell_type": "code",
   "execution_count": null,
   "id": "d8edaa74",
   "metadata": {},
   "outputs": [],
   "source": [
    "# Plotting the error state probabilities\n",
    "fig, ax = plt.subplots()\n",
    "fig.set_figwidth(20)\n",
    "error_state_bars = ax.bar(error_logical_bits, np.abs(\n",
    "    error_state)**2, label = 'Error States Distribution', color = 'tomato')\n",
    "plt.title('Probability Distribution of Error States')\n",
    "plt.xlabel('logcial bit states') \n",
    "plt.ylabel('probability') \n",
    "ax.bar_label(error_state_bars)\n",
    "plt.show()\n",
    "\n",
    "# Plotting the corrected state probabilities\n",
    "fig, ax = plt.subplots()\n",
    "fig.set_figwidth(20)\n",
    "corrected_state_bars = ax.bar(corrected_bit_states, np.abs(\n",
    "    corrected_states)**2, label = 'Corrected States Distribution', color = 'deepskyblue')\n",
    "plt.title('Probability Distribution of Corrected States')\n",
    "plt.xlabel('logcial bit states') \n",
    "plt.ylabel('probability') \n",
    "ax.bar_label(corrected_state_bars)\n",
    "plt.show()"
   ]
  },
  {
   "cell_type": "markdown",
   "id": "fa6c2100",
   "metadata": {},
   "source": [
    "### Now to calculate the fidelities of our system"
   ]
  },
  {
   "cell_type": "code",
   "execution_count": null,
   "id": "78a4ab17",
   "metadata": {},
   "outputs": [],
   "source": [
    "# Unencoded Fidelity:\n",
    "F_unencoded = (np.cos(epsilon))**2\n",
    "\n",
    "# Encoded Fidelity with no error detected:\n",
    "F_no_error_detected = ((np.cos(epsilon))**6)/((np.cos(epsilon))**6 + (np.sin(epsilon))**6)\n",
    "Prob_no_error_detected = (np.cos(epsilon))**6 + (np.sin(epsilon))**6\n",
    "\n",
    "# Encoded Fidelity with error detected:\n",
    "F_error_detected = (((np.cos(epsilon))**4)*(np.sin(epsilon))**2)/(((np.cos(epsilon))**4)*(np.sin(epsilon))**2 + ((np.sin(epsilon))**4)*(np.cos(epsilon))**2)\n",
    "Prob_error_detected = 3*((np.cos(epsilon)**4 * (np.sin(epsilon))**2) + (np.sin(epsilon)**4 * (np.cos(epsilon))**2))\n",
    "\n",
    "print('Unencoded Fidelity:   ', F_unencoded)\n",
    "print('Encoded No Error Detected Fidelity: ', F_no_error_detected, ', with a probability of ', Prob_no_error_detected)\n",
    "print('Encoded Error Detected Fidelity: ', F_error_detected, ', with a probability of ', Prob_error_detected)\n",
    "print(' - - - - - - - - - -')\n",
    "print('New Encoded Fidelity: ', F_no_error_detected*Prob_no_error_detected + F_error_detected*Prob_error_detected)"
   ]
  },
  {
   "cell_type": "markdown",
   "id": "dae7d6bb",
   "metadata": {},
   "source": [
    "Congrats! You have finished learning about the three qubit single bit flip error correcting code."
   ]
  },
  {
   "cell_type": "markdown",
   "id": "d7f90ce7",
   "metadata": {},
   "source": [
    "### Extra resources that could be helpful :)"
   ]
  },
  {
   "cell_type": "markdown",
   "id": "9a3ed7cf",
   "metadata": {},
   "source": [
    "https://qiskit.org/documentation/stable/0.35/tutorials/circuits/3_summary_of_quantum_operations.html\n",
    "\n",
    "https://www.oreilly.com/library/view/qiskit-pocket-guide/9781098112462/ch01.html\n",
    "\n",
    "Fidelity:\n",
    "https://www.frontiersin.org/articles/10.3389/fphy.2022.893507/full\n",
    "\n",
    "General QEC:\n",
    "http://theory.caltech.edu/~preskill/ph229/notes/chap7.pdf"
   ]
  }
 ],
 "metadata": {
  "kernelspec": {
   "display_name": "Python 3 (ipykernel)",
   "language": "python",
   "name": "python3"
  },
  "language_info": {
   "codemirror_mode": {
    "name": "ipython",
    "version": 3
   },
   "file_extension": ".py",
   "mimetype": "text/x-python",
   "name": "python",
   "nbconvert_exporter": "python",
   "pygments_lexer": "ipython3",
   "version": "3.11.4"
  }
 },
 "nbformat": 4,
 "nbformat_minor": 5
}
