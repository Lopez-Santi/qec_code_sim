{
 "cells": [
  {
   "cell_type": "markdown",
   "id": "b8866afc",
   "metadata": {},
   "source": [
    "If there is a file import error make sure you are in the correct path"
   ]
  },
  {
   "cell_type": "code",
   "execution_count": null,
   "id": "2047465b",
   "metadata": {},
   "outputs": [],
   "source": [
    "import sys\n",
    "sys.path.append('..')   # the `general_qec` package sits above us"
   ]
  },
  {
   "cell_type": "code",
   "execution_count": null,
   "id": "b76a2310",
   "metadata": {},
   "outputs": [],
   "source": [
    "import numpy as np\n",
    "import random\n",
    "import matplotlib.pyplot as plt\n",
    "\n",
    "from general_qec.qec_helpers import *\n",
    "from general_qec.gates import *\n",
    "from general_qec.errors import *"
   ]
  },
  {
   "cell_type": "markdown",
   "id": "7b0503f0",
   "metadata": {},
   "source": [
    "# Modelling and simulating noisy quantum computers\n",
    "https://arxiv.org/pdf/2101.02109.pdf"
   ]
  },
  {
   "cell_type": "markdown",
   "id": "9f367c09",
   "metadata": {},
   "source": [
    "## Contents\n",
    "1. [Introduction](#introduction)\n",
    "2. [Depolarizing Channel](#depolarize)\n",
    "    1. [Single qubit gate model](#single)\n",
    "    2. [Two qubit gate model](#two)\n",
    "    3. [Implementing line connectivity](#line)\n",
    "1. [State Preparation and Measuremnt](#spam)\n",
    "2. [Thermal Decoherence and Dephasing Channel](#t)\n",
    "    1. [Implementation of T1 and T2 induced errors](#implement)\n",
    "        1. [Single qubit gates with relaxation and dephasing](#singlerad)\n",
    "        2. [Two qubit gates with relaxation and dephasing](#tworad)\n",
    "        3. [Implementing line connectivity](#linerad)"
   ]
  },
  {
   "cell_type": "markdown",
   "id": "ff29e95b",
   "metadata": {},
   "source": [
    "## 1. Introduction <a id='introduction'></a>\n",
    "In this noteboook we will introduce imlement the error models shown in the paper arXiv:2101.02109. These errors are similar to the ones discussed in  <u>01. Introduction to Quantum Error</u>."
   ]
  },
  {
   "cell_type": "markdown",
   "id": "48f8970a",
   "metadata": {},
   "source": [
    "## 2. Depolarizing Channel <a id='depolarize'></a>\n",
    "### Simulates bit and phase flips due to gate infidelities with in the circuit (probability $p_1$)\n",
    "$$ K_{D_0} = \\sqrt{1-p_1}, \\quad K_{D_1} = \\sqrt{\\frac{p_1}{3}}X, \\quad K_{D_2} = \\sqrt{\\frac{p_1}{3}}Z, \\quad K_{D_3} = \\sqrt{\\frac{p_1}{3}}Y$$\n",
    "$$ \\rho \\mapsto D(\\rho) = \\sum_{i = 0}^{3}K_{D_i}\\rho K^\\dagger_{D_i}$$\n"
   ]
  },
  {
   "cell_type": "markdown",
   "id": "4d8fa713",
   "metadata": {},
   "source": [
    "<u>Single qubit gate model:</u> <a id='single'></a> error after single qubit gate according to single qubit error rates\n",
    "\n",
    "This example will show a hadamard gate but all other single qubit gate operations will work similarly."
   ]
  },
  {
   "cell_type": "code",
   "execution_count": null,
   "id": "2fa2a7fb",
   "metadata": {},
   "outputs": [],
   "source": [
    "psi = np.array([1, 0]) # initial state of our qubit\n",
    "rho = np.kron(psi, psi[np.newaxis].conj().T) # convert to density matrix\n",
    "\n",
    "p_1 = 0.0001 # probability of gate error\n",
    "\n",
    "rho_prime = np.dot(sigma_x, np.dot(rho, sigma_x.conj().T)) # apply 'perfect gate'\n",
    "print('Density Matrix after perfect gate operation: \\n', rho_prime)\n",
    "\n",
    "final_rho = gate_error(rho_prime, p_1, 0, 1) # apply errored gate operation\n",
    "print('Density Matrix after errored gate operation: \\n', final_rho)"
   ]
  },
  {
   "cell_type": "code",
   "execution_count": null,
   "id": "175d15cd",
   "metadata": {
    "scrolled": false
   },
   "outputs": [],
   "source": [
    "# probability of the state measurments from the density matrix are defined as Tr(p*rho)\n",
    "prob_sum = 0\n",
    "state_probs = np.array([])\n",
    "for i in range(len(final_rho)):\n",
    "    prob_sum += np.abs(final_rho[i,i])\n",
    "    state_probs = np.append(state_probs, final_rho[i,i])\n",
    "    \n",
    "print('state_probs:', state_probs)\n",
    "print('total probabilities: ', prob_sum)\n",
    "\n",
    "bits = vector_state_to_bit_state(state_probs, 1)[0]\n",
    "print('bits:', bits)\n",
    "\n",
    "# Plotting the error state probabilities\n",
    "fig, ax = plt.subplots()\n",
    "fig.set_figwidth(20)\n",
    "error_state_bars = ax.bar(bits, np.abs(state_probs), label = 'States Probability Distribution', color = 'cornflowerblue')\n",
    "plt.title('Probability Distribution of States')\n",
    "plt.xlabel('logcial bit states') \n",
    "plt.ylabel('probability') \n",
    "ax.bar_label(error_state_bars)\n",
    "plt.show()"
   ]
  },
  {
   "cell_type": "markdown",
   "id": "76cf8e49",
   "metadata": {},
   "source": [
    "<u> Two qubit gate model:</u> <a id='two'></a>Error occurs after a two qubit gate according to two qubit error rates\n",
    "\n",
    "\n",
    "This example will use a CNOT matrix between 2 qubits in a 3 qubit system. We will first show all-to-all connectivity and then restrict to line to line (after that grid will work similarly to both of these)"
   ]
  },
  {
   "cell_type": "code",
   "execution_count": null,
   "id": "d03d38e1",
   "metadata": {},
   "outputs": [],
   "source": [
    "# In both examples we will use the following information #\n",
    "zero = np.array([1, 0])\n",
    "one = np.array([0, 1])\n",
    "psi = np.kron(one, np.kron(zero, one)) # set an initial_state\n",
    "rho = np.kron(psi, psi[np.newaxis].conj().T) # find the density matrix\n",
    "\n",
    "# probability of gate error for each qubit:\n",
    "p_q0 = 0.00001\n",
    "p_q1 = 0.00001\n",
    "p_q2 = 0.00001\n",
    "\n",
    "error_probs = np.array([p_q0, p_q1, p_q2])"
   ]
  },
  {
   "cell_type": "code",
   "execution_count": null,
   "id": "53239dff",
   "metadata": {
    "scrolled": true
   },
   "outputs": [],
   "source": [
    "# 2 adjacent qubits all-to-all connectivity CNOT gate example #\n",
    "cnot_gate = CNOT(0, 1, 3) # CNOT gate with q0 as control and q1 as target\n",
    "\n",
    "rho_prime = np.dot(cnot_gate, np.dot(rho, cnot_gate.conj().T)) # apply our 'perfect' cnot gate\n",
    "\n",
    "final_rho = gate_error(rho_prime, p_q1, 1, 3) # apply our error gate\n",
    "\n",
    "# probability of the state measurments from the density matrix are defined as Tr(p*rho)\n",
    "prob_sum = 0\n",
    "state_probs = np.array([])\n",
    "for i in range(len(final_rho)):\n",
    "    prob_sum += np.abs(final_rho[i,i])\n",
    "    state_probs = np.append(state_probs, final_rho[i,i])\n",
    "    \n",
    "print('total probability: ', prob_sum)\n",
    "\n",
    "bits = vector_state_to_bit_state(state_probs, 3)[0]\n",
    "\n",
    "# Plotting the error state probabilities\n",
    "fig, ax = plt.subplots()\n",
    "fig.set_figwidth(20)\n",
    "error_state_bars = ax.bar(bits, state_probs[state_probs!=0], label = 'States Probability Distribution', color = 'cornflowerblue')\n",
    "plt.title('Probability Distribution of States')\n",
    "plt.xlabel('logcial bit states') \n",
    "plt.ylabel('probability') \n",
    "ax.bar_label(error_state_bars)\n",
    "plt.show()"
   ]
  },
  {
   "cell_type": "code",
   "execution_count": null,
   "id": "e763ea0c",
   "metadata": {},
   "outputs": [],
   "source": [
    "# 2 non-adjacent qubits all-to-all connectivity CNOT gate example #\n",
    "cnot_gate = CNOT(2, 0, 3) # CNOT gate with q2 as control and q0 as target\n",
    "\n",
    "rho_prime = np.dot(cnot_gate, np.dot(rho, cnot_gate.conj().T)) # apply our cnot gate\n",
    "\n",
    "final_rho = gate_error(rho_prime, p_q0, 0, 3) # apply our error gate\n",
    "\n",
    "# probability of the state measurments from the density matrix are defined as Tr(p*rho)\n",
    "prob_sum = 0\n",
    "state_probs = np.array([])\n",
    "for i in range(len(final_rho)):\n",
    "    prob_sum += np.abs(final_rho[i,i])\n",
    "    state_probs = np.append(state_probs, final_rho[i,i])\n",
    "    \n",
    "print('total probabilities: ', prob_sum)\n",
    "\n",
    "bits = vector_state_to_bit_state(state_probs, 3)[0]\n",
    "\n",
    "# Plotting the error state probabilities\n",
    "fig, ax = plt.subplots()\n",
    "fig.set_figwidth(20)\n",
    "error_state_bars = ax.bar(bits, state_probs[state_probs!=0], label = 'States Probability Distribution', color = 'cornflowerblue')\n",
    "plt.title('Probability Distribution of States')\n",
    "plt.xlabel('logcial bit states') \n",
    "plt.ylabel('probability') \n",
    "ax.bar_label(error_state_bars)\n",
    "plt.show()"
   ]
  },
  {
   "cell_type": "markdown",
   "id": "d95a63be",
   "metadata": {},
   "source": [
    "Now focussing on <u>line connectivity</u>. <a id='line'></a>We will use our current CNOT functions to create new ones that implement the errors that occur after each gate is applied in the derivations."
   ]
  },
  {
   "cell_type": "code",
   "execution_count": null,
   "id": "1f4dee47",
   "metadata": {},
   "outputs": [],
   "source": [
    "# 2 non-adjacent qubits line connectivity CNOT gate example #\n",
    "# CNOT gate with q0 as control and q2 as target\n",
    "psi = np.kron(one, np.kron(zero, one))\n",
    "\n",
    "# probability of gate error for each qubit:\n",
    "p_q0 = 0.0001\n",
    "p_q1 = 0.0001\n",
    "p_q2 = 0.0001\n",
    "\n",
    "# define your error probability for each qubit\n",
    "qubit_error_probs = np.array([p_q0, p_q1, p_q2])\n",
    "\n",
    "# apply an errored line connected CNOT gate\n",
    "rho_prime = line_errored_CNOT(psi, 0, 2, qubit_error_probs, form = 'psi') \n",
    "\n",
    "# probability of the density matrix is defined as Tr(p*rho)\n",
    "prob_sum = 0\n",
    "state_probs = np.array([])\n",
    "for i in range(len(rho_prime)):\n",
    "    prob_sum += np.abs(rho_prime[i,i])\n",
    "    state_probs = np.append(state_probs, rho_prime[i,i])\n",
    "    \n",
    "print('total probability: ', prob_sum)\n",
    "bits = vector_state_to_bit_state(state_probs, 3)[0]\n",
    "\n",
    "# Plotting the error state probabilities\n",
    "fig, ax = plt.subplots()\n",
    "fig.set_figwidth(20)\n",
    "error_state_bars = ax.bar(bits, state_probs[state_probs!=0], label = 'States Probability Distribution', color = 'cornflowerblue')\n",
    "plt.title('Probability Distribution of States')\n",
    "plt.xlabel('logcial bit states') \n",
    "plt.ylabel('probability') \n",
    "ax.bar_label(error_state_bars)\n",
    "plt.show()"
   ]
  },
  {
   "cell_type": "code",
   "execution_count": null,
   "id": "fa7f3b69",
   "metadata": {
    "scrolled": true
   },
   "outputs": [],
   "source": [
    "# 2 non-adjacent qubits line connectivity CNOT gate example with 5 qubits #\n",
    "# CNOT gate with q0 as control and q2 as target\n",
    "psi = np.kron(one, np.kron(zero, np.kron(one, np.kron(zero, one))))\n",
    "\n",
    "# probability of gate error for each qubit:\n",
    "p_q0 = 0.0001\n",
    "p_q1 = 0.001\n",
    "p_q2 = 0.00001\n",
    "p_q3 = 0.01\n",
    "p_q4 = 0.000001\n",
    "\n",
    "# define your error probability for each qubit\n",
    "qubit_error_probs = np.array([p_q0, p_q1, p_q2, p_q3, p_q4])\n",
    "\n",
    "# apply an errored line connected CNOT gate\n",
    "rho_prime = line_errored_CNOT(psi, 0, 4, qubit_error_probs, form = 'psi')\n",
    "\n",
    "# probability of the density matrix is defined as Tr(p*rho)\n",
    "prob_sum = 0\n",
    "state_probs = np.array([])\n",
    "for i in range(len(rho_prime)):\n",
    "    prob_sum += np.abs(rho_prime[i,i])\n",
    "    state_probs = np.append(state_probs, rho_prime[i,i])\n",
    "    \n",
    "print('total probability: ', prob_sum)\n",
    "bits = vector_state_to_bit_state(state_probs, 5)[0]\n",
    "\n",
    "# Plotting the error state probabilities\n",
    "fig, ax = plt.subplots()\n",
    "fig.set_figwidth(20)\n",
    "error_state_bars = ax.bar(bits, state_probs[state_probs!=0], label = 'States Probability Distribution', color = 'cornflowerblue')\n",
    "plt.title('Probability Distribution of States')\n",
    "plt.xlabel('logcial bit states') \n",
    "plt.ylabel('probability') \n",
    "ax.bar_label(error_state_bars)\n",
    "plt.show()"
   ]
  },
  {
   "cell_type": "markdown",
   "id": "0f71b65a",
   "metadata": {},
   "source": [
    "Now lets say we want to collapse our system to see what state we are left with when we actually measure."
   ]
  },
  {
   "cell_type": "code",
   "execution_count": null,
   "id": "b790aa0d",
   "metadata": {},
   "outputs": [],
   "source": [
    "# collapse our state\n",
    "collapsed_state = collapse_ancilla(np.sqrt(state_probs), 5)\n",
    "\n",
    "prob_sum = 0\n",
    "for i in range(len(collapsed_state)):\n",
    "    prob_sum += np.abs(collapsed_state[i])\n",
    "\n",
    "print('total probability: ', prob_sum)\n",
    "bits = vector_state_to_bit_state(collapsed_state, 5)[0]\n",
    "print_state_info(collapsed_state, 5)\n",
    "# Plotting the error state probabilities\n",
    "fig, ax = plt.subplots()\n",
    "fig.set_figwidth(20)\n",
    "error_state_bars = ax.bar(bits, (collapsed_state[collapsed_state!=0])**2, label = 'States Probability Distribution', color = 'cornflowerblue')\n",
    "plt.title('Probability Distribution of States after state prep error')\n",
    "plt.xlabel('logcial bit states') \n",
    "plt.ylabel('probability') \n",
    "ax.bar_label(error_state_bars)\n",
    "plt.show()"
   ]
  },
  {
   "cell_type": "markdown",
   "id": "f80acc78",
   "metadata": {},
   "source": [
    "## 2. State Preparation and Measuremnt <a id='spam'></a>\n",
    "\n",
    "### This model is simply an X error, and it is related to the probability ($P_2$) that we measure or initialize our state incorrectly.\n",
    "\n",
    "We know that our state preparation and measurement instruments are not exact, so we may initialize or measure the incorrect state. In this model we apply two gates based on this assumption.\n",
    "\n",
    "$$ K_{M_0} = \\sqrt{1-P_2}I, \\quad K_{M_1} = \\sqrt{P_2}X$$\n",
    "\n",
    "Thus the effect of the state preparation and measurement channel on the density matrix $\\rho$ in this case can be defined as \n",
    "\n",
    "$$\\rho \\mapsto S(\\rho) = K_{M_0}\\rho K_{M_0} + K_{M_1}\\rho K_{M_1}$$\n",
    "\n",
    "This mapping occurs at both the state preparation and measurement parts. Additionally, the operators $K_{M_0}$ and $K_{M_1}$ can be different depending on the probability for error ($P_2$) at each spot. The operation is done after state preparation and before the measurement occurs.\n",
    "\n",
    "For more information on these types of errors, look back at <u>01. Introduction to Quantum Error</u> in section 3."
   ]
  },
  {
   "cell_type": "markdown",
   "id": "04429bd2",
   "metadata": {},
   "source": [
    "First we will implement a state preparation error. We will have our initial density matrix and apply our SPAM function after we have initailze it."
   ]
  },
  {
   "cell_type": "code",
   "execution_count": null,
   "id": "78d5f53a",
   "metadata": {},
   "outputs": [],
   "source": [
    "# State preparation error:\n",
    "# Our initial psi is\n",
    "psi = np.kron(one, np.kron(zero, np.kron(one, np.kron(zero, one))))\n",
    "# create our initial density matrix\n",
    "rho = np.kron(psi, psi[np.newaxis].conj().T)\n",
    "\n",
    "# Apply our state preparation error\n",
    "p = 1e-5 # probability of state prep error\n",
    "# apply state prep error on each qubit\n",
    "for i in range(5):\n",
    "    rho = spam_error(rho, p, i) \n",
    "\n",
    "# probability of the density matrix is defined as Tr(p*rho)\n",
    "prob_sum = 0\n",
    "state_probs = np.array([])\n",
    "for i in range(len(rho)):\n",
    "    prob_sum += np.abs(rho[i,i])\n",
    "    state_probs = np.append(state_probs, rho[i,i])\n",
    "    \n",
    "print('total probability: ', prob_sum)\n",
    "bits = vector_state_to_bit_state(state_probs, 5)[0]\n",
    "\n",
    "# Plotting the error state probabilities\n",
    "fig, ax = plt.subplots()\n",
    "fig.set_figwidth(20)\n",
    "error_state_bars = ax.bar(bits, state_probs[state_probs!=0], label = 'States Probability Distribution', color = 'cornflowerblue')\n",
    "plt.title('Probability Distribution of States after state prep error')\n",
    "plt.xlabel('logcial bit states') \n",
    "plt.ylabel('probability') \n",
    "ax.bar_label(error_state_bars)\n",
    "plt.show()"
   ]
  },
  {
   "cell_type": "markdown",
   "id": "16b44999",
   "metadata": {},
   "source": [
    "Now lets assume we did some gate operations on our system and want to measure our final state by collapsing our last 2 ancilla qubits. We would apply the measurement error gate before we collapse our system."
   ]
  },
  {
   "cell_type": "code",
   "execution_count": null,
   "id": "d5220121",
   "metadata": {},
   "outputs": [],
   "source": [
    "# lets let rho be the following:\n",
    "# Our psi is\n",
    "psi = np.kron(one, np.kron(one, np.kron(one, np.kron(zero, one))))\n",
    "# create our density matrix rho\n",
    "rho = np.kron(psi, psi[np.newaxis].conj().T)\n",
    "\n",
    "# Apply our measuremnt error\n",
    "p = 1e-5 # probability of measurement error\n",
    "\n",
    "# apply measurement error on each qubit we will measure (2 ancillas)\n",
    "for i in range(3,5):\n",
    "    rho = spam_error(rho, p, i) \n",
    "\n",
    "# probability of the density matrix is defined as Tr(p*rho)\n",
    "prob_sum = 0\n",
    "state_probs = np.array([])\n",
    "for i in range(len(rho)):\n",
    "    prob_sum += np.abs(rho[i,i])\n",
    "    state_probs = np.append(state_probs, rho[i,i])\n",
    "print('prob: ', prob_sum)\n",
    "collapsed_state = collapse_ancilla(np.sqrt(state_probs), 2)\n",
    "\n",
    "prob_sum = 0\n",
    "for i in range(len(collapsed_state)):\n",
    "    prob_sum += np.abs(collapsed_state[i])\n",
    "\n",
    "print('total probability: ', prob_sum)\n",
    "bits = vector_state_to_bit_state(collapsed_state, 5)[0]\n",
    "print_state_info(collapsed_state, 5)\n",
    "# Plotting the error state probabilities\n",
    "fig, ax = plt.subplots()\n",
    "fig.set_figwidth(20)\n",
    "error_state_bars = ax.bar(bits, (collapsed_state[collapsed_state!=0])**2, label = 'States Probability Distribution', color = 'cornflowerblue')\n",
    "plt.title('Probability Distribution of States after state prep error')\n",
    "plt.xlabel('logcial bit states') \n",
    "plt.ylabel('probability') \n",
    "ax.bar_label(error_state_bars)\n",
    "plt.show()"
   ]
  },
  {
   "cell_type": "markdown",
   "id": "c9dcf443",
   "metadata": {},
   "source": [
    "## 3. Thermal Decoherence and Dephasing Channel <a id='t'></a>"
   ]
  },
  {
   "cell_type": "markdown",
   "id": "a8fde0e1",
   "metadata": {},
   "source": [
    "Each qubit in our system has their own relaxation and dephasing which both occur over time.\n",
    "\n",
    "* <u>Relaxation</u> is the energy exchange between the qubit and the environment (also known as decoherence) along the x and y axis of the bloch sphere - it is irreversible. The time it takes a gubit to relax is known as $T_1$ and is defined by the evolution towards the equilibrium state at the temperature of the environment.\n",
    "\n",
    "* <u>Dephasing</u> is the transition of a quantum state to a classical one (also due to the environment) along the z axis of the bloch sphere. The time it takes a gubit to dephase is known as $T_2$ and is defined by the behavior of off diagonal entries over time. Describes the behavior of coherence decaying over time.\n",
    "\n",
    "$T_1$ and $T_2$ are related by the inequality $T_2(q) \\le 2 T_1(q)$ where q is the index (starting at 0) of the qubit in our system.\n",
    "\n",
    "\n",
    "In our model we will include both of these channels. We can track the time in our circuit by using the average execution time for each gate operation, $T_g$. We know that the probability for each qubit to relax and dephase after a gate of time $T_g$ is given by: \n",
    "\n",
    "$$p_{T_1(q)} = e^{-T_g/T_1(q)}, \\space and \\space p_{T_2(q)} = e^{-T_g/T_2(q)}$$\n",
    "\n",
    "respectively, where $(q)$ is the index of the qubit. These can be found by integrating over the functions $f_{T_1}(t) = \\frac{1}{T_1}e^{-\\frac{t}{T_1}}$ and  $f_{T_2}(t) = \\frac{1}{T_2}e^{-\\frac{t}{T_2}}$ over the interval $T_g \\lt t \\lt \\infty$. And from this we can also know that that probability for a qubit to reset into an equillibrium state is \n",
    "\n",
    "$$p_{reset(q)} = 1 - p_{T_1(q)}$$\n",
    "\n",
    "This is done by integrating $f_{T_1}(t) = \\frac{1}{T_1}e^{-\\frac{t}{T_1}}$ over the interval $0 \\lt t \\lt T_g$."
   ]
  },
  {
   "cell_type": "markdown",
   "id": "c7cc51b7",
   "metadata": {},
   "source": [
    "<u>Something that may be useful to know:</u>\n",
    "We can take into account the thermal relaxation transition, and calculate the weight that dictates towards which of the two equilibrium states ($\\vert0\\rangle$ or $\\vert1\\rangle$) this noise (or reset error) drives each qubit, q, as \n",
    "\n",
    "$$ w_e(q) = \\frac{1}{1 + e^{2hf_q/k_B\\Theta}}$$\n",
    "\n",
    "Where $h$ is Plank's constant, $f_q$ is the frequency of the qubit, $k_B$ is Boltzmann's constant, and $\\Theta$ is the temperature of the quantum processor.\n",
    "\n",
    "In our case we will assume that $\\Theta = 0$. And we can safely assume that the error only resets our system to the ground state $\\vert0\\rangle$."
   ]
  },
  {
   "cell_type": "markdown",
   "id": "9e291a6a",
   "metadata": {},
   "source": [
    "**NOTE:** The error model below was taken from the following lecture notes. We noticed that the error model for relaxation and dephasing from the paper we used above was not implemented correctly since the sum of the magnitudes of the matrices did not equal the identity. \n",
    "\n",
    "http://theory.caltech.edu/~preskill/ph219/chap3_15.pdf"
   ]
  },
  {
   "cell_type": "markdown",
   "id": "2e549bc4",
   "metadata": {},
   "source": [
    "Lets allow $T_2(q) \\le T_1(q)$ for every qubit in our system. We can now see that the forms of noise that we have in our system are:\n",
    "\n",
    "<u>Relaxation/Thermal Decay</u> (reset to the state $\\vert0\\rangle$) with a probability $p_{reset} = 1 - p_{T_1}$ defined by the operators \n",
    "\n",
    "$K_{0} = \\begin{pmatrix}\n",
    "1 & 0 \\\\\n",
    "0 & \\sqrt{1-p_{reset}}\n",
    "\\end{pmatrix}, \\quad K_{1} = \\begin{pmatrix}\n",
    "0 & \\sqrt{p_{reset}} \\\\\n",
    "0 & 0\n",
    "\\end{pmatrix}$\n",
    "\n",
    "<u>Dephasing</u> (phase flip) with a probability $p_{dephase} = 1 - p_{T_2}$ defined by the operators: \n",
    "\n",
    "$K_2 = \\sqrt{1-p_{dephase} }I, \\quad K_3 = \\sqrt{p_{dephase} }\\vert0\\rangle\\langle0\\vert, \\quad K_4 = \\sqrt{p_{dephase} }\\vert1\\rangle\\langle1\\vert $\n",
    "\n",
    "Thus the effect of the decay and dephasing channels on the density matrix $\\rho$ in this case can be defined as $ \\rho \\mapsto \\eta(\\rho) = \\sum_{k \\in {0, 1, 2,...}}^{}K_{k}\\rho K^\\dagger_{k}$."
   ]
  },
  {
   "cell_type": "markdown",
   "id": "73a29d49",
   "metadata": {},
   "source": [
    "The average $T_1$ and $T_2$ times for superconducting transmon qubits are around 100-200 $\\mu s$ with gate times of 10s of nanoseconds.\n",
    "\n",
    "So in this case we will allow $T_1$ for each qubit to be 200 $\\mu s$ and $T_2$ to be 150 $\\mu s$\n",
    "\n",
    "We will have $T_g$ set to 20 nanoseconds for all gate operations because for superconducting transmon qubits this is about the average gate duration. But we can change this depending on different gate parameters in the future.\n",
    "\n",
    "https://arxiv.org/abs/2212.06979 - gates\n",
    "\n",
    "https://arxiv.org/pdf/2302.08690.pdf - t1/t2 and gates\n",
    "\n",
    "https://unitary.fund/ - good general info\n"
   ]
  },
  {
   "cell_type": "markdown",
   "id": "4c3501e4",
   "metadata": {},
   "source": [
    "### A. Implementation of T1 and T2 induced errors <a id='implement'></a>"
   ]
  },
  {
   "cell_type": "markdown",
   "id": "282746ab",
   "metadata": {},
   "source": [
    "<u>Single qubit gates with relaxation and dephasing</u> <a id='singlerad'></a>"
   ]
  },
  {
   "cell_type": "code",
   "execution_count": null,
   "id": "0303510b",
   "metadata": {},
   "outputs": [],
   "source": [
    "psi = np.array([1, 0]) # initial state of our qubit\n",
    "rho = np.kron(psi, psi[np.newaxis].conj().T) # convert to density matrix\n",
    "\n",
    "rho_prime = np.dot(sigma_x, np.dot(rho, sigma_x.conj().T)) # apply 'perfect gate'\n",
    "\n",
    "t1 = 200 * 10**-6\n",
    "t2 = 150 * 10**-6\n",
    "tg = 20 * 10**-9\n",
    "\n",
    "final_rho = rad_error(rho_prime, t1, t2, tg) # apply errored gate operation\n",
    "\n",
    "print('Density Matrix after errored gate operation: \\n', final_rho)\n",
    "\n",
    "\n",
    "# probability of the state measurments from the density matrix are defined as Tr(p*rho)\n",
    "prob_sum = 0\n",
    "state_probs = np.array([])\n",
    "for i in range(len(final_rho)):\n",
    "    prob_sum += np.abs(final_rho[i,i])\n",
    "    state_probs = np.append(state_probs, final_rho[i,i])\n",
    "    \n",
    "print('total probabilities: ', prob_sum)\n",
    "\n",
    "bits = vector_state_to_bit_state(state_probs, 1)[0]\n",
    "\n",
    "# Plotting the error state probabilities\n",
    "fig, ax = plt.subplots()\n",
    "fig.set_figwidth(20)\n",
    "error_state_bars = ax.bar(bits, state_probs, label = 'States Probability Distribution', color = 'cornflowerblue')\n",
    "plt.title('Probability Distribution of States')\n",
    "plt.xlabel('logcial bit states') \n",
    "plt.ylabel('probability') \n",
    "ax.bar_label(error_state_bars)\n",
    "plt.show()"
   ]
  },
  {
   "cell_type": "markdown",
   "id": "9f2a6d5d",
   "metadata": {},
   "source": [
    "<u>Two qubit gates with relaxation and dephasing</u> <a id='tworad'></a>\n",
    "\n",
    "First we implement a single gate to demonstrate the state after the operation."
   ]
  },
  {
   "cell_type": "code",
   "execution_count": null,
   "id": "5bdef3d1",
   "metadata": {},
   "outputs": [],
   "source": [
    "# In both examples we will use the following information #\n",
    "zero = np.array([1, 0])\n",
    "one = np.array([0, 1])\n",
    "psi = np.kron(one, np.kron(zero, one)) # set an initial_state\n",
    "rho = np.kron(psi, psi[np.newaxis].conj().T) # find the density matrix\n",
    "\n",
    "# parameters set for all qubits:\n",
    "t1 = 200 * 10**-6\n",
    "t2 = 150 * 10**-6\n",
    "tg = 20 * 10**-9"
   ]
  },
  {
   "cell_type": "code",
   "execution_count": null,
   "id": "290211b3",
   "metadata": {},
   "outputs": [],
   "source": [
    "# 2 adjacent qubits all-to-all connectivity CNOT gate example #\n",
    "cnot_gate = CNOT(0, 1, 3) # CNOT gate with q0 as control and q1 as target\n",
    "\n",
    "rho_prime = np.dot(cnot_gate, np.dot(rho, cnot_gate.conj().T)) # apply our 'perfect' cnot gate\n",
    "\n",
    "final_rho = rad_error(rho_prime, t1, t2, tg) # apply our error gate\n",
    "\n",
    "# probability of the state measurments from the density matrix are defined as Tr(p*rho)\n",
    "prob_sum = 0\n",
    "state_probs = np.array([])\n",
    "for i in range(len(final_rho)):\n",
    "    prob_sum += np.abs(final_rho[i,i])\n",
    "    state_probs = np.append(state_probs, final_rho[i,i])\n",
    "    \n",
    "print('total probability: ', prob_sum)\n",
    "\n",
    "bits = vector_state_to_bit_state(state_probs, 3)[0]\n",
    "\n",
    "# Plotting the error state probabilities\n",
    "fig, ax = plt.subplots()\n",
    "fig.set_figwidth(20)\n",
    "error_state_bars = ax.bar(bits, state_probs[state_probs!=0], label = 'States Probability Distribution', color = 'cornflowerblue')\n",
    "plt.title('Probability Distribution of States')\n",
    "plt.xlabel('logcial bit states') \n",
    "plt.ylabel('probability') \n",
    "ax.bar_label(error_state_bars)\n",
    "plt.show()"
   ]
  },
  {
   "cell_type": "code",
   "execution_count": null,
   "id": "0a4cd874",
   "metadata": {},
   "outputs": [],
   "source": [
    "# 2 non-adjacent qubits all-to-all connectivity CNOT gate example #\n",
    "cnot_gate = CNOT(2, 0, 3) # CNOT gate with q2 as control and q0 as target\n",
    "\n",
    "rho_prime = np.dot(cnot_gate, np.dot(rho, cnot_gate.conj().T)) # apply our cnot gate\n",
    "\n",
    "final_rho = rad_error(rho_prime, t1, t2, tg) # apply our error gate\n",
    "\n",
    "# probability of the state measurments from the density matrix are defined as Tr(p*rho)\n",
    "prob_sum = 0\n",
    "state_probs = np.array([])\n",
    "for i in range(len(final_rho)):\n",
    "    prob_sum += np.abs(final_rho[i,i])\n",
    "    state_probs = np.append(state_probs, final_rho[i,i])\n",
    "    \n",
    "print('total probabilities: ', prob_sum)\n",
    "\n",
    "bits = vector_state_to_bit_state(state_probs, 3)[0]\n",
    "\n",
    "# Plotting the error state probabilities\n",
    "fig, ax = plt.subplots()\n",
    "fig.set_figwidth(20)\n",
    "error_state_bars = ax.bar(bits, state_probs[state_probs!=0], label = 'States Probability Distribution', color = 'cornflowerblue')\n",
    "plt.title('Probability Distribution of States')\n",
    "plt.xlabel('logcial bit states') \n",
    "plt.ylabel('probability') \n",
    "ax.bar_label(error_state_bars)\n",
    "plt.show()"
   ]
  },
  {
   "cell_type": "markdown",
   "id": "bea2825c",
   "metadata": {},
   "source": [
    "Now we will implement <u>line connectivity</u>.<a id='linerad'></a> This will mean that each gate operation will implement an error and we will see the effects after multiple gates have occured."
   ]
  },
  {
   "cell_type": "code",
   "execution_count": null,
   "id": "27882528",
   "metadata": {},
   "outputs": [],
   "source": [
    "# 2 non-adjacent qubits line connectivity CNOT gate example #\n",
    "# CNOT gate with q0 as control and q2 as target\n",
    "psi = np.kron(one, np.kron(zero, one))\n",
    "\n",
    "# parameters set for all qubits:\n",
    "t1 = 200 * 10**-6\n",
    "t2 = 150 * 10**-6\n",
    "tg = 20 * 10**-9\n",
    "\n",
    "# apply an errored line connected CNOT gate\n",
    "rho_prime = line_rad_CNOT(psi, 0, 2, t1, t2, tg, form = 'psi') \n",
    "\n",
    "# probability of the density matrix is defined as Tr(p*rho)\n",
    "prob_sum = 0\n",
    "state_probs = np.array([])\n",
    "for i in range(len(rho_prime)):\n",
    "    prob_sum += np.abs(rho_prime[i,i])\n",
    "    state_probs = np.append(state_probs, rho_prime[i,i])\n",
    "    \n",
    "print('total probability: ', prob_sum)\n",
    "bits = vector_state_to_bit_state(state_probs, 3)[0]\n",
    "\n",
    "# Plotting the error state probabilities\n",
    "fig, ax = plt.subplots()\n",
    "fig.set_figwidth(20)\n",
    "error_state_bars = ax.bar(bits, state_probs[state_probs!=0], label = 'States Probability Distribution', color = 'cornflowerblue')\n",
    "plt.title('Probability Distribution of States')\n",
    "plt.xlabel('logcial bit states') \n",
    "plt.ylabel('probability') \n",
    "ax.bar_label(error_state_bars)\n",
    "plt.show()"
   ]
  },
  {
   "cell_type": "code",
   "execution_count": null,
   "id": "d925b063",
   "metadata": {},
   "outputs": [],
   "source": [
    "# 2 non-adjacent qubits line connectivity CNOT gate example with 5 qubits #\n",
    "# CNOT gate with q0 as control and q4 as target\n",
    "psi = np.kron(one, np.kron(zero, np.kron(one, np.kron(zero, one))))\n",
    "\n",
    "# parameters set for all qubits:\n",
    "t1 = 200 * 10**-6\n",
    "t2 = 150 * 10**-6\n",
    "tg = 20 * 10**-9\n",
    "\n",
    "# apply an errored line connected CNOT gate\n",
    "rho_prime = line_rad_CNOT(psi, 0, 4, t1, t2, tg, form = 'psi')\n",
    "\n",
    "# probability of the density matrix is defined as Tr(p*rho)\n",
    "prob_sum = 0\n",
    "state_probs = np.array([])\n",
    "for i in range(len(rho_prime)):\n",
    "    prob_sum += np.abs(rho_prime[i,i])\n",
    "    state_probs = np.append(state_probs, rho_prime[i,i])\n",
    "    \n",
    "print('total probability: ', prob_sum)\n",
    "bits = vector_state_to_bit_state(state_probs, 5)[0]\n",
    "\n",
    "# Plotting the error state probabilities\n",
    "fig, ax = plt.subplots()\n",
    "fig.set_figwidth(20)\n",
    "error_state_bars = ax.bar(bits, state_probs[state_probs!=0], label = 'States Probability Distribution', color = 'cornflowerblue')\n",
    "plt.title('Probability Distribution of States')\n",
    "plt.xlabel('logcial bit states') \n",
    "plt.ylabel('probability') \n",
    "ax.bar_label(error_state_bars)\n",
    "plt.show()"
   ]
  },
  {
   "cell_type": "markdown",
   "id": "e31346d5",
   "metadata": {},
   "source": [
    "We can also apply the above gate many times and see the resulting qubit population decay overtime due to the errors that occur at each gate operation. Essentially we plot the probability that when we measure the system we will measure a non-relaxed state."
   ]
  },
  {
   "cell_type": "code",
   "execution_count": null,
   "id": "9690ffa5",
   "metadata": {
    "scrolled": false
   },
   "outputs": [],
   "source": [
    "# CNOT gate with q0 as control and q2 as target\n",
    "psi = np.kron(one, np.kron(zero, np.kron(one, np.kron(zero, one))))\n",
    "\n",
    "# parameters set for all qubits:\n",
    "t1 = 200 * 10**-6\n",
    "t2 = 150 * 10**-6\n",
    "tg = 20 * 10**-9\n",
    "\n",
    "sums = np.array([])\n",
    "count = np.array([])\n",
    "\n",
    "for i in range(999):\n",
    "    count = np.append(count, i)\n",
    "\n",
    "    if i == 0:\n",
    "        # apply an errored line connected CNOT gate\n",
    "        rho_prime = line_rad_CNOT(psi, 0, 4, t1, t2, tg, form = 'psi')\n",
    "    else:\n",
    "        # apply an errored line connected CNOT gate\n",
    "        rho_prime = line_rad_CNOT(rho_prime, 0, 4, t1, t2, tg, form = 'rho')\n",
    "        \n",
    "    # probability of the density matrix is defined as Tr(p*rho)\n",
    "    prob_sum = 0\n",
    "    state_probs = np.array([])\n",
    "    for i in range(len(rho_prime)):\n",
    "        prob_sum += np.abs(rho_prime[i,i])\n",
    "        state_probs = np.append(state_probs, rho_prime[i,i])\n",
    "\n",
    "#     print('total probability: ', prob_sum)\n",
    "    sums = np.append(sums, prob_sum)\n",
    "    \n",
    "\n",
    "plt.scatter(count, sums, s = 1)\n",
    "plt.title('5 Qubit population as a function of line connected CNOT gates from 0 to 4')\n",
    "plt.xlabel('number of CNOT gates (remember these are composed of multiple gates)')\n",
    "plt.ylabel('qubit population')\n",
    "plt.show()"
   ]
  },
  {
   "cell_type": "code",
   "execution_count": null,
   "id": "6eadb0d5",
   "metadata": {},
   "outputs": [],
   "source": []
  }
 ],
 "metadata": {
  "kernelspec": {
   "display_name": "Python 3 (ipykernel)",
   "language": "python",
   "name": "python3"
  },
  "language_info": {
   "codemirror_mode": {
    "name": "ipython",
    "version": 3
   },
   "file_extension": ".py",
   "mimetype": "text/x-python",
   "name": "python",
   "nbconvert_exporter": "python",
   "pygments_lexer": "ipython3",
   "version": "3.10.7"
  }
 },
 "nbformat": 4,
 "nbformat_minor": 5
}
