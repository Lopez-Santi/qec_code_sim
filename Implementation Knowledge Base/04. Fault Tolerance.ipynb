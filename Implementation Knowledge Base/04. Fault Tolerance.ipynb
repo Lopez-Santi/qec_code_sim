{
 "cells": [
  {
   "cell_type": "markdown",
   "id": "81869215",
   "metadata": {},
   "source": [
    "# Fault Tolerance"
   ]
  },
  {
   "cell_type": "markdown",
   "id": "e3cc075b",
   "metadata": {},
   "source": [
    "## Contents\n",
    "1. [Introduction](#introduction)"
   ]
  },
  {
   "cell_type": "markdown",
   "id": "cd00ec10",
   "metadata": {},
   "source": [
    "## 1. Introduction <a id='introduction'></a>\n",
    "### Up to now we have assumed that errors only occur in the data block of our circuit and that the errors that occur only occur at specific points in the circuit. However, realistically errors are able to occur anywhere in our system and at any point in time. In fact errors are continuous throughout our system and we need to be able to correct for them. \n",
    "\n",
    "#### We have been able to correct for errors, however if these errors occur in our ancilla qubits, then the errors would propogate thoughout our system. In the end this would lead multiple errors throughout and obviously incorrect results. Another way which errors can propogate is through the gates themselves. Since our gate operations are not always perfect, there is a chance for error. \n",
    "Take this example: Imagine we are implementing the 3 qubit code, but our CNOT gates are only correct 80% of the time. There are 5 CNOT gates in the 3 qubit code, so there is a good chance that at least one of the gates will be incorrectly applied. Thus when we measure the ancilla qubits we would not read out the correct measuremnt. This is also assuming all-to-all connectivity, in reality we have many more CNOT gates that are being applied so our error count will increase.\n",
    "\n",
    "### Fault tolerance is the ability to stop these errors from propogating through our system and spreading. A fault tolerant circuit is one that will only allow an error to cause at most a single error in the output for each logical qubit block. Errors are bound to occur, but as long as we stop them from cascading, we can apply error correction protocols and fix them.\n",
    "\n",
    "#### We should note that the definition of fault tolerance can change from system to system. If our error correcting code can fix multiple errors then we can relax the definition above. Most of the time, it is ok to say that a system that corrects for k errors is fault tolerant if 1, 2, ..., or k errors cause a maximum of k errors to occur in a logical qubit block output.\n",
    "\n",
    "#### For a code correcting $ t = \\left\\lfloor \\frac{(d-1)}{2} \\right\\rfloor$ errors then $\\le t$ errors must not lead to $\\gt t$ errors in the output for each logical qubit."
   ]
  },
  {
   "cell_type": "code",
   "execution_count": null,
   "id": "d1fdb45f",
   "metadata": {},
   "outputs": [],
   "source": []
  }
 ],
 "metadata": {
  "kernelspec": {
   "display_name": "Python 3 (ipykernel)",
   "language": "python",
   "name": "python3"
  },
  "language_info": {
   "codemirror_mode": {
    "name": "ipython",
    "version": 3
   },
   "file_extension": ".py",
   "mimetype": "text/x-python",
   "name": "python",
   "nbconvert_exporter": "python",
   "pygments_lexer": "ipython3",
   "version": "3.10.7"
  }
 },
 "nbformat": 4,
 "nbformat_minor": 5
}
