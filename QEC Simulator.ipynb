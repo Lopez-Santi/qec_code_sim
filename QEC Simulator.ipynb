{
 "cells": [
  {
   "cell_type": "markdown",
   "id": "3c4d9ec8",
   "metadata": {},
   "source": [
    "# Welcome to the QEC Simulator! \n",
    "## Please run the cell bellow to get started."
   ]
  },
  {
   "cell_type": "code",
   "execution_count": 3,
   "id": "82a6abe2",
   "metadata": {},
   "outputs": [],
   "source": [
    "import qec_simulation as qec"
   ]
  },
  {
   "cell_type": "code",
   "execution_count": null,
   "id": "6a6414ac",
   "metadata": {
    "scrolled": false
   },
   "outputs": [],
   "source": [
    "qec.run_sim()"
   ]
  },
  {
   "cell_type": "markdown",
   "id": "3e905d97",
   "metadata": {},
   "source": [
    "### If you have a data file you can just output the various sampling plots using the functions below:\n",
    "\n",
    "Just make sure to rename the function to the correct circuit you were running (i.e. qec.steane_plot_failure)"
   ]
  },
  {
   "cell_type": "code",
   "execution_count": null,
   "id": "4b0f0599",
   "metadata": {
    "scrolled": true
   },
   "outputs": [],
   "source": [
    "qec.three_qubit_plot_failure('data/three_qubit_sample/00001_three_qubit_sample.h5')"
   ]
  },
  {
   "cell_type": "code",
   "execution_count": null,
   "id": "2acd3e67",
   "metadata": {},
   "outputs": [],
   "source": [
    "qec.three_qubit_plot_t1('data/three_qubit_sample/00001_three_qubit_sample.h5')"
   ]
  }
 ],
 "metadata": {
  "kernelspec": {
   "display_name": "Python 3 (ipykernel)",
   "language": "python",
   "name": "python3"
  },
  "language_info": {
   "codemirror_mode": {
    "name": "ipython",
    "version": 3
   },
   "file_extension": ".py",
   "mimetype": "text/x-python",
   "name": "python",
   "nbconvert_exporter": "python",
   "pygments_lexer": "ipython3",
   "version": "3.11.4"
  }
 },
 "nbformat": 4,
 "nbformat_minor": 5
}
